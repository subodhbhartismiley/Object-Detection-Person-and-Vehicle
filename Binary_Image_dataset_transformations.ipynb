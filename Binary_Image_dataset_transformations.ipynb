{
  "cells": [
    {
      "cell_type": "markdown",
      "metadata": {
        "id": "view-in-github",
        "colab_type": "text"
      },
      "source": [
        "<a href=\"https://colab.research.google.com/github/subodhbhartismiley/Object-Detection-Person-and-Vehicle/blob/main/Binary_Image_dataset_transformations.ipynb\" target=\"_parent\"><img src=\"https://colab.research.google.com/assets/colab-badge.svg\" alt=\"Open In Colab\"/></a>"
      ]
    },
    {
      "cell_type": "code",
      "execution_count": null,
      "id": "c61c43db",
      "metadata": {
        "id": "c61c43db",
        "outputId": "03167ee9-0654-4853-c885-69c768be0ccc"
      },
      "outputs": [
        {
          "name": "stdout",
          "output_type": "stream",
          "text": [
            "Requirement already satisfied: Augmentor in c:\\users\\sub13\\anaconda3\\anaconda_new\\lib\\site-packages (0.2.10)\n",
            "Requirement already satisfied: Pillow>=5.2.0 in c:\\users\\sub13\\anaconda3\\anaconda_new\\lib\\site-packages (from Augmentor) (9.2.0)\n",
            "Requirement already satisfied: tqdm>=4.9.0 in c:\\users\\sub13\\anaconda3\\anaconda_new\\lib\\site-packages (from Augmentor) (4.64.1)\n",
            "Requirement already satisfied: numpy>=1.11.0 in c:\\users\\sub13\\anaconda3\\anaconda_new\\lib\\site-packages (from Augmentor) (1.21.5)\n",
            "Requirement already satisfied: future>=0.16.0 in c:\\users\\sub13\\anaconda3\\anaconda_new\\lib\\site-packages (from Augmentor) (0.18.2)\n",
            "Requirement already satisfied: colorama in c:\\users\\sub13\\anaconda3\\anaconda_new\\lib\\site-packages (from tqdm>=4.9.0->Augmentor) (0.4.5)\n",
            "Note: you may need to restart the kernel to use updated packages.\n"
          ]
        }
      ],
      "source": [
        "pip install Augmentor"
      ]
    },
    {
      "cell_type": "code",
      "execution_count": null,
      "id": "ff6c4334",
      "metadata": {
        "id": "ff6c4334",
        "outputId": "7fcbc96c-ff76-44c7-b561-d09b8a5f35a4"
      },
      "outputs": [
        {
          "name": "stdout",
          "output_type": "stream",
          "text": [
            "Initialised with 100 image(s) found.\n",
            "Output directory set to C:/Users/sub13/Downloads/Custom-Object-Detection-Training-using-YOLOv5/input1/output_folder/cat/output_rotate_180.Initialised with 100 image(s) found.\n",
            "Output directory set to C:/Users/sub13/Downloads/Custom-Object-Detection-Training-using-YOLOv5/input1/output_folder/cat/output_black_n_white.Initialised with 100 image(s) found.\n",
            "Output directory set to C:/Users/sub13/Downloads/Custom-Object-Detection-Training-using-YOLOv5/input1/output_folder/cat/output_zoom.Initialised with 100 image(s) found.\n",
            "Output directory set to C:/Users/sub13/Downloads/Custom-Object-Detection-Training-using-YOLOv5/input1/output_folder/cat/output_shear.Initialised with 100 image(s) found.\n",
            "Output directory set to C:/Users/sub13/Downloads/Custom-Object-Detection-Training-using-YOLOv5/input1/output_folder/cat/output_crop.Initialised with 100 image(s) found.\n",
            "Output directory set to C:/Users/sub13/Downloads/Custom-Object-Detection-Training-using-YOLOv5/input1/output_folder/cat/output_distortion.Initialised with 100 image(s) found.\n",
            "Output directory set to C:/Users/sub13/Downloads/Custom-Object-Detection-Training-using-YOLOv5/input1/output_folder/cat/output_flip_left_right."
          ]
        },
        {
          "name": "stderr",
          "output_type": "stream",
          "text": [
            "Processing <PIL.Image.Image image mode=RGB size=300x300 at 0x21DD276D3A0>: 100%|██████████| 100/100 [00:00<00:00, 484.20 Samples/s]\n",
            "Processing <PIL.Image.Image image mode=1 size=300x300 at 0x21DD2772DF0>: 100%|██████████| 100/100 [00:00<00:00, 521.40 Samples/s]\n",
            "Processing <PIL.Image.Image image mode=RGB size=300x300 at 0x21DD48252B0>: 100%|██████████| 100/100 [00:00<00:00, 287.24 Samples/s]\n",
            "Processing <PIL.Image.Image image mode=RGB size=300x300 at 0x21DD273AF10>: 100%|██████████| 100/100 [00:00<00:00, 348.15 Samples/s]\n",
            "Processing <PIL.Image.Image image mode=RGB size=300x300 at 0x21DD2711B50>: 100%|██████████| 100/100 [00:00<00:00, 127.35 Samples/s]\n",
            "Processing <PIL.Image.Image image mode=RGB size=300x300 at 0x21DD273A850>: 100%|██████████| 100/100 [00:00<00:00, 410.00 Samples/s]\n"
          ]
        }
      ],
      "source": [
        "# Importing necessary library\n",
        "# flipping, rotation and transformation.for cat images\n",
        "# Use documentation as link= \"https://augmentor.readthedocs.io/en/stable/userguide/mainfeatures.html#rotating-1\"\n",
        "import Augmentor\n",
        "# Passing the path of the image directory\n",
        "p = Augmentor.Pipeline(\"C:/Users/sub13/Downloads/Custom-Object-Detection-Training-using-YOLOv5/input1/input_image/cat\",\n",
        "    output_directory=\"C:/Users/sub13/Downloads/Custom-Object-Detection-Training-using-YOLOv5/input1/output_folder/cat/output_rotate_180\")\n",
        "\n",
        "p1 = Augmentor.Pipeline(\"C:/Users/sub13/Downloads/Custom-Object-Detection-Training-using-YOLOv5/input1/input_image/cat\",\n",
        "    output_directory=\"C:/Users/sub13/Downloads/Custom-Object-Detection-Training-using-YOLOv5/input1/output_folder/cat/output_black_n_white\")\n",
        "\n",
        "p2 = Augmentor.Pipeline(\"C:/Users/sub13/Downloads/Custom-Object-Detection-Training-using-YOLOv5/input1/input_image/cat\",\n",
        "    output_directory=\"C:/Users/sub13/Downloads/Custom-Object-Detection-Training-using-YOLOv5/input1/output_folder/cat/output_zoom\")\n",
        "\n",
        "p3 = Augmentor.Pipeline(\"C:/Users/sub13/Downloads/Custom-Object-Detection-Training-using-YOLOv5/input1/input_image/cat\",\n",
        "    output_directory=\"C:/Users/sub13/Downloads/Custom-Object-Detection-Training-using-YOLOv5/input1/output_folder/cat/output_shear\")\n",
        "\n",
        "p4 = Augmentor.Pipeline(\"C:/Users/sub13/Downloads/Custom-Object-Detection-Training-using-YOLOv5/input1/input_image/cat\",\n",
        "    output_directory=\"C:/Users/sub13/Downloads/Custom-Object-Detection-Training-using-YOLOv5/input1/output_folder/cat/output_crop\")\n",
        "\n",
        "p5 = Augmentor.Pipeline(\"C:/Users/sub13/Downloads/Custom-Object-Detection-Training-using-YOLOv5/input1/input_image/cat\",\n",
        "    output_directory=\"C:/Users/sub13/Downloads/Custom-Object-Detection-Training-using-YOLOv5/input1/output_folder/cat/output_distortion\")\n",
        "\n",
        "p6 = Augmentor.Pipeline(\"C:/Users/sub13/Downloads/Custom-Object-Detection-Training-using-YOLOv5/input1/input_image/cat\",\n",
        "    output_directory=\"C:/Users/sub13/Downloads/Custom-Object-Detection-Training-using-YOLOv5/input1/output_folder/cat/output_flip_left_right\")\n",
        "\n",
        "'''\n",
        "rotate(probability=0.5, max_left_rotation=5, max_right_rotation=10)\n",
        "rotate()\n",
        "rotate90()\n",
        "rotate180()\n",
        "rotate270()\n",
        "rotate_random_90()\n",
        "'''\n",
        "\n",
        "\n",
        "p.rotate180(1)\n",
        "p.process()\n",
        "#p.rotate90(1)   # Rotate left 90 degree\n",
        "#p.process()\n",
        "\n",
        "\n",
        "\n",
        "p1.black_and_white(1)\n",
        "p1.process()\n",
        " # operation black & white then flip left to right as sequential order from the original for the same object if performed below if output dir set to None\n",
        "#p1.flip_left_right(1) \n",
        "#p1.process()\n",
        "\n",
        "\n",
        "\n",
        "p2.zoom(probability=1, min_factor=1.5, max_factor=2.0)\n",
        "p2.process()\n",
        "\n",
        "p3.shear(probability=1, max_shear_left=10, max_shear_right=20)\n",
        "p3.process()\n",
        "\n",
        "#p4.crop_by_size(probability=1, width=200, height=300, centre=True)\n",
        "#p4.process()\n",
        "\n",
        "p5.random_distortion(probability=1, grid_width=10, grid_height=20, magnitude=40)\n",
        "p5.process()\n",
        "\n",
        "p6.flip_left_right(1) \n",
        "p6.process()\n",
        "\n",
        "#p1.flip_top_bottom(probability=1)\n",
        "#p1.process()"
      ]
    },
    {
      "cell_type": "code",
      "execution_count": null,
      "id": "e73b9416",
      "metadata": {
        "id": "e73b9416"
      },
      "outputs": [],
      "source": []
    },
    {
      "cell_type": "code",
      "execution_count": null,
      "id": "330c1b17",
      "metadata": {
        "id": "330c1b17",
        "outputId": "d111beac-e503-47aa-8b28-66e71bdb0b95"
      },
      "outputs": [
        {
          "name": "stdout",
          "output_type": "stream",
          "text": [
            "Initialised with 100 image(s) found.\n",
            "Output directory set to C:/Users/sub13/Downloads/Custom-Object-Detection-Training-using-YOLOv5/input1/output_folder/dog/output_rotate_180.Initialised with 100 image(s) found.\n",
            "Output directory set to C:/Users/sub13/Downloads/Custom-Object-Detection-Training-using-YOLOv5/input1/output_folder/dog/output_black_n_white.Initialised with 100 image(s) found.\n",
            "Output directory set to C:/Users/sub13/Downloads/Custom-Object-Detection-Training-using-YOLOv5/input1/output_folder/dog/output_zoom.Initialised with 100 image(s) found.\n",
            "Output directory set to C:/Users/sub13/Downloads/Custom-Object-Detection-Training-using-YOLOv5/input1/output_folder/dog/output_shear.Initialised with 100 image(s) found.\n",
            "Output directory set to C:/Users/sub13/Downloads/Custom-Object-Detection-Training-using-YOLOv5/input1/output_folder/dog/output_crop.Initialised with 100 image(s) found.\n",
            "Output directory set to C:/Users/sub13/Downloads/Custom-Object-Detection-Training-using-YOLOv5/input1/output_folder/dog/output_distortion.Initialised with 100 image(s) found.\n",
            "Output directory set to C:/Users/sub13/Downloads/Custom-Object-Detection-Training-using-YOLOv5/input1/output_folder/dog/output_flip_left_right."
          ]
        },
        {
          "name": "stderr",
          "output_type": "stream",
          "text": [
            "Processing <PIL.Image.Image image mode=RGB size=97x150 at 0x21DD2767490>: 100%|██████████| 100/100 [00:00<00:00, 430.83 Samples/s]\n",
            "Processing <PIL.Image.Image image mode=1 size=97x150 at 0x21DD2767D60>: 100%|██████████| 100/100 [00:00<00:00, 496.56 Samples/s]\n",
            "Processing <PIL.Image.Image image mode=RGB size=97x150 at 0x21DD4849A60>: 100%|██████████| 100/100 [00:00<00:00, 294.93 Samples/s]\n",
            "Processing <PIL.Image.Image image mode=RGB size=97x150 at 0x21DD26CC7C0>: 100%|██████████| 100/100 [00:00<00:00, 130.59 Samples/s]\n",
            "Processing <PIL.Image.Image image mode=RGB size=97x150 at 0x21DD26B8E20>: 100%|██████████| 100/100 [00:02<00:00, 47.36 Samples/s]\n",
            "Processing <PIL.Image.Image image mode=RGB size=97x150 at 0x21DD273AA00>: 100%|██████████| 100/100 [00:00<00:00, 193.18 Samples/s]\n"
          ]
        }
      ],
      "source": [
        "# Importing necessary library\n",
        "# flipping, rotation and transformation. for dog images\n",
        "# Use documentation as link= \"https://augmentor.readthedocs.io/en/stable/userguide/mainfeatures.html#rotating-1\"\n",
        "import Augmentor\n",
        "# Passing the path of the image directory\n",
        "p = Augmentor.Pipeline(\"C:/Users/sub13/Downloads/Custom-Object-Detection-Training-using-YOLOv5/input1/input_image/dog\",\n",
        "    output_directory=\"C:/Users/sub13/Downloads/Custom-Object-Detection-Training-using-YOLOv5/input1/output_folder/dog/output_rotate_180\")\n",
        "#   C:\\Users\\sub13\\Downloads\\Custom-Object-Detection-Training-using-YOLOv5\\input1\\input_image\\dog\n",
        "p1 = Augmentor.Pipeline(\"C:/Users/sub13/Downloads/Custom-Object-Detection-Training-using-YOLOv5/input1/input_image/dog\",\n",
        "    output_directory=\"C:/Users/sub13/Downloads/Custom-Object-Detection-Training-using-YOLOv5/input1/output_folder/dog/output_black_n_white\")\n",
        "\n",
        "p2 = Augmentor.Pipeline(\"C:/Users/sub13/Downloads/Custom-Object-Detection-Training-using-YOLOv5/input1/input_image/dog\",\n",
        "    output_directory=\"C:/Users/sub13/Downloads/Custom-Object-Detection-Training-using-YOLOv5/input1/output_folder/dog/output_zoom\")\n",
        "\n",
        "p3 = Augmentor.Pipeline(\"C:/Users/sub13/Downloads/Custom-Object-Detection-Training-using-YOLOv5/input1/input_image/dog\",\n",
        "    output_directory=\"C:/Users/sub13/Downloads/Custom-Object-Detection-Training-using-YOLOv5/input1/output_folder/dog/output_shear\")\n",
        "\n",
        "p4 = Augmentor.Pipeline(\"C:/Users/sub13/Downloads/Custom-Object-Detection-Training-using-YOLOv5/input1/input_image/dog\",\n",
        "    output_directory=\"C:/Users/sub13/Downloads/Custom-Object-Detection-Training-using-YOLOv5/input1/output_folder/dog/output_crop\")\n",
        "\n",
        "p5 = Augmentor.Pipeline(\"C:/Users/sub13/Downloads/Custom-Object-Detection-Training-using-YOLOv5/input1/input_image/dog\",\n",
        "    output_directory=\"C:/Users/sub13/Downloads/Custom-Object-Detection-Training-using-YOLOv5/input1/output_folder/dog/output_distortion\")\n",
        "\n",
        "p6 = Augmentor.Pipeline(\"C:/Users/sub13/Downloads/Custom-Object-Detection-Training-using-YOLOv5/input1/input_image/dog\",\n",
        "    output_directory=\"C:/Users/sub13/Downloads/Custom-Object-Detection-Training-using-YOLOv5/input1/output_folder/dog/output_flip_left_right\")\n",
        "\n",
        "\n",
        "p.rotate180(1)\n",
        "p.process()\n",
        "#p.rotate90(1)   # Rotate left 90 degree\n",
        "#p.process()\n",
        "\n",
        "p1.black_and_white(1)\n",
        "p1.process()\n",
        " # operation black & white then flip left to right as sequential order from the original for the same object if performed below if output dir set to None\n",
        "#p1.flip_left_right(1) \n",
        "#p1.process()\n",
        "\n",
        "p2.zoom(probability=1, min_factor=1.5, max_factor=2.0)\n",
        "p2.process()\n",
        "\n",
        "p3.shear(probability=1, max_shear_left=10, max_shear_right=20)\n",
        "p3.process()\n",
        "\n",
        "#p4.crop_by_size(probability=1, width=200, height=300, centre=True)\n",
        "#p4.process()\n",
        "\n",
        "p5.random_distortion(probability=1, grid_width=10, grid_height=20, magnitude=40)\n",
        "p5.process()\n",
        "\n",
        "p6.flip_left_right(1) \n",
        "p6.process()\n"
      ]
    },
    {
      "cell_type": "code",
      "execution_count": null,
      "id": "331fa9f9",
      "metadata": {
        "id": "331fa9f9"
      },
      "outputs": [],
      "source": []
    }
  ],
  "metadata": {
    "kernelspec": {
      "display_name": "Python 3 (ipykernel)",
      "language": "python",
      "name": "python3"
    },
    "language_info": {
      "codemirror_mode": {
        "name": "ipython",
        "version": 3
      },
      "file_extension": ".py",
      "mimetype": "text/x-python",
      "name": "python",
      "nbconvert_exporter": "python",
      "pygments_lexer": "ipython3",
      "version": "3.9.13"
    },
    "colab": {
      "provenance": [],
      "include_colab_link": true
    }
  },
  "nbformat": 4,
  "nbformat_minor": 5
}