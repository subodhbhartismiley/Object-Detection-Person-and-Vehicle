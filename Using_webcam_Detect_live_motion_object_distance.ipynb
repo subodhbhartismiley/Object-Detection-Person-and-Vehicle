{
  "cells": [
    {
      "cell_type": "markdown",
      "metadata": {
        "id": "view-in-github",
        "colab_type": "text"
      },
      "source": [
        "<a href=\"https://colab.research.google.com/github/subodhbhartismiley/Object-Detection-Person-and-Vehicle/blob/main/Using_webcam_Detect_live_motion_object_distance.ipynb\" target=\"_parent\"><img src=\"https://colab.research.google.com/assets/colab-badge.svg\" alt=\"Open In Colab\"/></a>"
      ]
    },
    {
      "cell_type": "markdown",
      "id": "62efe9ad",
      "metadata": {
        "id": "62efe9ad"
      },
      "source": [
        "## Using webcam Detect live motion object distance in respective pixel"
      ]
    },
    {
      "cell_type": "code",
      "execution_count": null,
      "id": "5d4b3bea",
      "metadata": {
        "id": "5d4b3bea"
      },
      "outputs": [],
      "source": [
        "# Working\n",
        "#  link = 'https://www.youtube.com/watch?v=AD2S1iyxxbI'\n",
        "import cv2\n",
        "import numpy as np \n",
        "\n",
        "cap = cv2.VideoCapture(0)\n",
        "\n",
        "_, prev = cap.read()\n",
        "prev = cv2.flip(prev, 1)\n",
        "_, new = cap.read()\n",
        "new = cv2.flip(new, 1)\n",
        "\n",
        "\n",
        "while True:\n",
        "\tdiff = cv2.absdiff(prev, new)\n",
        "\tdiff = cv2.cvtColor(diff, cv2.COLOR_BGR2GRAY)\n",
        "\tdiff = cv2.blur(diff, (5,5))\n",
        "\t_,thresh = cv2.threshold(diff, 10, 255, cv2.THRESH_BINARY)\n",
        "\tthreh = cv2.dilate(thresh, None, 3)\n",
        "\tthresh = cv2.erode(thresh, np.ones((4,4)), 1)\n",
        "\tcontor,_ = cv2.findContours(thresh, cv2.RETR_TREE, cv2.CHAIN_APPROX_SIMPLE)\n",
        "\tcv2.circle(prev, (20,200), 5, (0,0,255), -1)\n",
        "\tfor contors in contor:\t\t\t\t\n",
        "\t\tif cv2.contourArea(contors) > 30000:\n",
        "\t\t\t(x,y,w,h) = cv2.boundingRect(contors)\n",
        "\t\t\t(x1,y1),rad = cv2.minEnclosingCircle(contors)\n",
        "\t\t\tx1 = int(x1)\n",
        "\t\t\ty1 = int(y1)\n",
        "\t\t\tcv2.line(prev, (20,200), (x1, y1), (255,0,0), 4)\n",
        "\t\t\tcv2.putText(prev, \"{}\".format(int(np.sqrt((x1 - 20)**2 + (y1 - 200)**2))), (100,100),cv2.FONT_HERSHEY_SIMPLEX, 2, (0,255,0), 3)\n",
        "\t\t\tcv2.rectangle(prev, (x,y), (x+w,y+h), (0,255,0), 2)\n",
        "\t\t\tcv2.circle(prev, (x1,y1), 5, (0,0,255), -1)\n",
        "\t\t\n",
        "\t\t\t\t\t\n",
        "\t\n",
        "\tcv2.imshow(\"orig\", prev)\n",
        "\t\n",
        "\tprev = new\n",
        "\t_, new = cap.read()\n",
        "\tnew = cv2.flip(new, 1)\n",
        "\n",
        "\tif cv2.waitKey(1) == 27:\n",
        "\t\tbreak\n",
        "\n",
        "cap.release()\n",
        "cv2.destroyAllWindows()"
      ]
    }
  ],
  "metadata": {
    "kernelspec": {
      "display_name": "Python 3 (ipykernel)",
      "language": "python",
      "name": "python3"
    },
    "language_info": {
      "codemirror_mode": {
        "name": "ipython",
        "version": 3
      },
      "file_extension": ".py",
      "mimetype": "text/x-python",
      "name": "python",
      "nbconvert_exporter": "python",
      "pygments_lexer": "ipython3",
      "version": "3.9.13"
    },
    "colab": {
      "provenance": [],
      "include_colab_link": true
    }
  },
  "nbformat": 4,
  "nbformat_minor": 5
}