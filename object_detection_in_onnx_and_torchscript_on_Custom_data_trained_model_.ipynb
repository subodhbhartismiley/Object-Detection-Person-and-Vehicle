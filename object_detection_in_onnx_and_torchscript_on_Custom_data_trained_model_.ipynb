{
  "cells": [
    {
      "cell_type": "markdown",
      "metadata": {
        "id": "view-in-github",
        "colab_type": "text"
      },
      "source": [
        "<a href=\"https://colab.research.google.com/github/subodhbhartismiley/Object-Detection-Person-and-Vehicle/blob/main/object_detection_in_onnx_and_torchscript_on_Custom_data_trained_model_.ipynb\" target=\"_parent\"><img src=\"https://colab.research.google.com/assets/colab-badge.svg\" alt=\"Open In Colab\"/></a>"
      ]
    },
    {
      "cell_type": "markdown",
      "id": "97edf055",
      "metadata": {
        "id": "97edf055"
      },
      "source": [
        "# object detection on Custom data trained model in .onnx and  torchscript"
      ]
    },
    {
      "cell_type": "markdown",
      "id": "733c03b3",
      "metadata": {
        "id": "733c03b3"
      },
      "source": [
        "### Inferences can be seen in my google drive \"exp20 _to_23_using_ONNX_Torchscript.zip\"\n",
        "link- \"https://drive.google.com/file/d/1K0oZv6Hl9R5FmiTaVgKeViBOo37HvI5b/view?usp=sharing\"\n",
        "\n",
        "\n",
        "\n"
      ]
    },
    {
      "cell_type": "markdown",
      "id": "f9a62f90",
      "metadata": {
        "id": "f9a62f90"
      },
      "source": [
        "### Inference Performed Using custom model .onnx weight on webcam\n"
      ]
    },
    {
      "cell_type": "code",
      "execution_count": null,
      "id": "d6e66b37",
      "metadata": {
        "id": "d6e66b37",
        "outputId": "7ae42ec7-d28d-4f2f-d750-a5e9b3139c64"
      },
      "outputs": [
        {
          "data": {
            "text/plain": [
              "'C:\\\\Users\\\\sub13\\\\yolov5\\\\yolov5'"
            ]
          },
          "execution_count": 8,
          "metadata": {},
          "output_type": "execute_result"
        }
      ],
      "source": [
        "import os\n",
        "os.chdir('C:/Users/sub13/yolov5/yolov5')\n",
        "os.getcwd()"
      ]
    },
    {
      "cell_type": "code",
      "execution_count": null,
      "id": "a4d8402e",
      "metadata": {
        "id": "a4d8402e"
      },
      "outputs": [],
      "source": [
        "# Inference Performed Using custom model .onnx weight on webcam\n",
        "!python detect.py --weights final.onnx --source 0\n",
        "# caution it can the cpu of lower end, so don't run for longer time\n",
        "# Try to resart Kernal in notebook or close the concerned cmd of notebook"
      ]
    },
    {
      "cell_type": "markdown",
      "id": "10f1f4f6",
      "metadata": {
        "id": "10f1f4f6"
      },
      "source": [
        "### Inference Performed Using custom model .onnx weight on image\n"
      ]
    },
    {
      "cell_type": "code",
      "execution_count": null,
      "id": "8feba8fa",
      "metadata": {
        "id": "8feba8fa",
        "outputId": "3c41c03f-6006-4330-c12a-d51fa289cfb8"
      },
      "outputs": [
        {
          "name": "stderr",
          "output_type": "stream",
          "text": [
            "\u001b[34m\u001b[1mdetect: \u001b[0mweights=['final.onnx'], source=./data/images/bus.jpg, data=data\\coco128.yaml, imgsz=[640, 640], conf_thres=0.25, iou_thres=0.45, max_det=1000, device=, view_img=False, save_txt=False, save_conf=False, save_crop=False, nosave=False, classes=None, agnostic_nms=False, augment=False, visualize=False, update=False, project=runs\\detect, name=exp, exist_ok=False, line_thickness=3, hide_labels=False, hide_conf=False, half=False, dnn=False, vid_stride=1\n",
            "YOLOv5  v6.2-205-geef9057 Python-3.9.13 torch-1.12.1+cpu CPU\n",
            "\n",
            "Loading final.onnx for ONNX Runtime inference...\n",
            "image 1/1 C:\\Users\\sub13\\yolov5\\yolov5\\data\\images\\bus.jpg: 640x640 3 persons, 1 vehicle, 139.0ms\n",
            "Speed: 2.3ms pre-process, 139.0ms inference, 6.0ms NMS per image at shape (1, 3, 640, 640)\n",
            "Results saved to \u001b[1mruns\\detect\\exp20\u001b[0m\n"
          ]
        }
      ],
      "source": [
        "# Inference Performed Using custom model .onnx weight on image\n",
        "!python detect.py --weights final.onnx --source ./data/images/bus.jpg\n",
        "#\"D:/New_dir/Image_data_man_and_vehicle/Auto_and_manual_images_merged_files_renamed_800/image 1.jpg\""
      ]
    },
    {
      "cell_type": "markdown",
      "id": "c8d5316b",
      "metadata": {
        "id": "c8d5316b"
      },
      "source": [
        "### Inference Performed Using custom model .onnx weight on video\n"
      ]
    },
    {
      "cell_type": "code",
      "execution_count": null,
      "id": "85d01021",
      "metadata": {
        "id": "85d01021",
        "outputId": "48c11bf7-c63e-42b7-fc06-83aa77881d61"
      },
      "outputs": [
        {
          "name": "stderr",
          "output_type": "stream",
          "text": [
            "\u001b[34m\u001b[1mdetect: \u001b[0mweights=['final.onnx'], source=./data/images/cars2.mp4, data=data\\coco128.yaml, imgsz=[640, 640], conf_thres=0.25, iou_thres=0.45, max_det=1000, device=, view_img=False, save_txt=False, save_conf=False, save_crop=False, nosave=False, classes=None, agnostic_nms=False, augment=False, visualize=False, update=False, project=runs\\detect, name=exp, exist_ok=False, line_thickness=3, hide_labels=False, hide_conf=False, half=False, dnn=False, vid_stride=1\n",
            "YOLOv5  v6.2-205-geef9057 Python-3.9.13 torch-1.12.1+cpu CPU\n",
            "\n",
            "Loading final.onnx for ONNX Runtime inference...\n",
            "video 1/1 (1/188) C:\\Users\\sub13\\yolov5\\yolov5\\data\\images\\cars2.mp4: 640x640 1 person, 2 vehicles, 126.9ms\n",
            "video 1/1 (2/188) C:\\Users\\sub13\\yolov5\\yolov5\\data\\images\\cars2.mp4: 640x640 1 person, 2 vehicles, 148.9ms\n",
            "video 1/1 (3/188) C:\\Users\\sub13\\yolov5\\yolov5\\data\\images\\cars2.mp4: 640x640 1 person, 2 vehicles, 151.8ms\n",
            "video 1/1 (4/188) C:\\Users\\sub13\\yolov5\\yolov5\\data\\images\\cars2.mp4: 640x640 1 person, 3 vehicles, 153.5ms\n",
            "video 1/1 (5/188) C:\\Users\\sub13\\yolov5\\yolov5\\data\\images\\cars2.mp4: 640x640 2 persons, 3 vehicles, 145.3ms\n",
            "video 1/1 (6/188) C:\\Users\\sub13\\yolov5\\yolov5\\data\\images\\cars2.mp4: 640x640 2 persons, 2 vehicles, 146.0ms\n",
            "video 1/1 (7/188) C:\\Users\\sub13\\yolov5\\yolov5\\data\\images\\cars2.mp4: 640x640 1 person, 2 vehicles, 142.0ms\n",
            "video 1/1 (8/188) C:\\Users\\sub13\\yolov5\\yolov5\\data\\images\\cars2.mp4: 640x640 1 person, 2 vehicles, 145.4ms\n",
            "video 1/1 (9/188) C:\\Users\\sub13\\yolov5\\yolov5\\data\\images\\cars2.mp4: 640x640 1 person, 3 vehicles, 152.0ms\n",
            "video 1/1 (10/188) C:\\Users\\sub13\\yolov5\\yolov5\\data\\images\\cars2.mp4: 640x640 1 person, 3 vehicles, 151.4ms\n",
            "video 1/1 (11/188) C:\\Users\\sub13\\yolov5\\yolov5\\data\\images\\cars2.mp4: 640x640 1 person, 2 vehicles, 143.7ms\n",
            "video 1/1 (12/188) C:\\Users\\sub13\\yolov5\\yolov5\\data\\images\\cars2.mp4: 640x640 1 person, 3 vehicles, 148.1ms\n",
            "video 1/1 (13/188) C:\\Users\\sub13\\yolov5\\yolov5\\data\\images\\cars2.mp4: 640x640 1 person, 3 vehicles, 146.0ms\n",
            "video 1/1 (14/188) C:\\Users\\sub13\\yolov5\\yolov5\\data\\images\\cars2.mp4: 640x640 1 person, 3 vehicles, 143.4ms\n",
            "video 1/1 (15/188) C:\\Users\\sub13\\yolov5\\yolov5\\data\\images\\cars2.mp4: 640x640 1 person, 3 vehicles, 153.4ms\n",
            "video 1/1 (16/188) C:\\Users\\sub13\\yolov5\\yolov5\\data\\images\\cars2.mp4: 640x640 2 persons, 3 vehicles, 142.6ms\n",
            "video 1/1 (17/188) C:\\Users\\sub13\\yolov5\\yolov5\\data\\images\\cars2.mp4: 640x640 1 person, 2 vehicles, 144.1ms\n",
            "video 1/1 (18/188) C:\\Users\\sub13\\yolov5\\yolov5\\data\\images\\cars2.mp4: 640x640 1 person, 2 vehicles, 155.7ms\n",
            "video 1/1 (19/188) C:\\Users\\sub13\\yolov5\\yolov5\\data\\images\\cars2.mp4: 640x640 1 person, 2 vehicles, 144.1ms\n",
            "video 1/1 (20/188) C:\\Users\\sub13\\yolov5\\yolov5\\data\\images\\cars2.mp4: 640x640 1 person, 2 vehicles, 153.2ms\n",
            "video 1/1 (21/188) C:\\Users\\sub13\\yolov5\\yolov5\\data\\images\\cars2.mp4: 640x640 1 person, 2 vehicles, 198.5ms\n",
            "video 1/1 (22/188) C:\\Users\\sub13\\yolov5\\yolov5\\data\\images\\cars2.mp4: 640x640 1 person, 2 vehicles, 146.6ms\n",
            "video 1/1 (23/188) C:\\Users\\sub13\\yolov5\\yolov5\\data\\images\\cars2.mp4: 640x640 1 person, 2 vehicles, 146.2ms\n",
            "video 1/1 (24/188) C:\\Users\\sub13\\yolov5\\yolov5\\data\\images\\cars2.mp4: 640x640 1 person, 2 vehicles, 156.8ms\n",
            "video 1/1 (25/188) C:\\Users\\sub13\\yolov5\\yolov5\\data\\images\\cars2.mp4: 640x640 1 person, 2 vehicles, 140.9ms\n",
            "video 1/1 (26/188) C:\\Users\\sub13\\yolov5\\yolov5\\data\\images\\cars2.mp4: 640x640 1 person, 2 vehicles, 143.6ms\n",
            "video 1/1 (27/188) C:\\Users\\sub13\\yolov5\\yolov5\\data\\images\\cars2.mp4: 640x640 1 person, 2 vehicles, 146.7ms\n",
            "video 1/1 (28/188) C:\\Users\\sub13\\yolov5\\yolov5\\data\\images\\cars2.mp4: 640x640 1 person, 2 vehicles, 145.2ms\n",
            "video 1/1 (29/188) C:\\Users\\sub13\\yolov5\\yolov5\\data\\images\\cars2.mp4: 640x640 1 person, 2 vehicles, 158.1ms\n",
            "video 1/1 (30/188) C:\\Users\\sub13\\yolov5\\yolov5\\data\\images\\cars2.mp4: 640x640 1 person, 2 vehicles, 146.1ms\n",
            "video 1/1 (31/188) C:\\Users\\sub13\\yolov5\\yolov5\\data\\images\\cars2.mp4: 640x640 1 person, 3 vehicles, 145.8ms\n",
            "video 1/1 (32/188) C:\\Users\\sub13\\yolov5\\yolov5\\data\\images\\cars2.mp4: 640x640 1 person, 3 vehicles, 145.4ms\n",
            "video 1/1 (33/188) C:\\Users\\sub13\\yolov5\\yolov5\\data\\images\\cars2.mp4: 640x640 1 person, 3 vehicles, 145.4ms\n",
            "video 1/1 (34/188) C:\\Users\\sub13\\yolov5\\yolov5\\data\\images\\cars2.mp4: 640x640 1 person, 2 vehicles, 144.1ms\n",
            "video 1/1 (35/188) C:\\Users\\sub13\\yolov5\\yolov5\\data\\images\\cars2.mp4: 640x640 1 person, 3 vehicles, 144.3ms\n",
            "video 1/1 (36/188) C:\\Users\\sub13\\yolov5\\yolov5\\data\\images\\cars2.mp4: 640x640 1 person, 3 vehicles, 147.7ms\n",
            "video 1/1 (37/188) C:\\Users\\sub13\\yolov5\\yolov5\\data\\images\\cars2.mp4: 640x640 1 person, 3 vehicles, 156.4ms\n",
            "video 1/1 (38/188) C:\\Users\\sub13\\yolov5\\yolov5\\data\\images\\cars2.mp4: 640x640 1 person, 2 vehicles, 143.8ms\n",
            "video 1/1 (39/188) C:\\Users\\sub13\\yolov5\\yolov5\\data\\images\\cars2.mp4: 640x640 1 person, 2 vehicles, 142.0ms\n",
            "video 1/1 (40/188) C:\\Users\\sub13\\yolov5\\yolov5\\data\\images\\cars2.mp4: 640x640 1 person, 3 vehicles, 145.4ms\n",
            "video 1/1 (41/188) C:\\Users\\sub13\\yolov5\\yolov5\\data\\images\\cars2.mp4: 640x640 2 persons, 2 vehicles, 144.6ms\n",
            "video 1/1 (42/188) C:\\Users\\sub13\\yolov5\\yolov5\\data\\images\\cars2.mp4: 640x640 1 person, 2 vehicles, 142.2ms\n",
            "video 1/1 (43/188) C:\\Users\\sub13\\yolov5\\yolov5\\data\\images\\cars2.mp4: 640x640 1 person, 2 vehicles, 144.9ms\n",
            "video 1/1 (44/188) C:\\Users\\sub13\\yolov5\\yolov5\\data\\images\\cars2.mp4: 640x640 2 persons, 2 vehicles, 145.9ms\n",
            "video 1/1 (45/188) C:\\Users\\sub13\\yolov5\\yolov5\\data\\images\\cars2.mp4: 640x640 2 persons, 2 vehicles, 139.0ms\n",
            "video 1/1 (46/188) C:\\Users\\sub13\\yolov5\\yolov5\\data\\images\\cars2.mp4: 640x640 2 persons, 2 vehicles, 143.9ms\n",
            "video 1/1 (47/188) C:\\Users\\sub13\\yolov5\\yolov5\\data\\images\\cars2.mp4: 640x640 1 person, 2 vehicles, 143.9ms\n",
            "video 1/1 (48/188) C:\\Users\\sub13\\yolov5\\yolov5\\data\\images\\cars2.mp4: 640x640 1 person, 3 vehicles, 143.9ms\n",
            "video 1/1 (49/188) C:\\Users\\sub13\\yolov5\\yolov5\\data\\images\\cars2.mp4: 640x640 2 persons, 3 vehicles, 155.1ms\n",
            "video 1/1 (50/188) C:\\Users\\sub13\\yolov5\\yolov5\\data\\images\\cars2.mp4: 640x640 1 person, 3 vehicles, 144.3ms\n",
            "video 1/1 (51/188) C:\\Users\\sub13\\yolov5\\yolov5\\data\\images\\cars2.mp4: 640x640 1 person, 2 vehicles, 145.9ms\n",
            "video 1/1 (52/188) C:\\Users\\sub13\\yolov5\\yolov5\\data\\images\\cars2.mp4: 640x640 1 person, 2 vehicles, 146.1ms\n",
            "video 1/1 (53/188) C:\\Users\\sub13\\yolov5\\yolov5\\data\\images\\cars2.mp4: 640x640 1 person, 2 vehicles, 145.2ms\n",
            "video 1/1 (54/188) C:\\Users\\sub13\\yolov5\\yolov5\\data\\images\\cars2.mp4: 640x640 3 persons, 2 vehicles, 145.0ms\n",
            "video 1/1 (55/188) C:\\Users\\sub13\\yolov5\\yolov5\\data\\images\\cars2.mp4: 640x640 2 persons, 3 vehicles, 144.0ms\n",
            "video 1/1 (56/188) C:\\Users\\sub13\\yolov5\\yolov5\\data\\images\\cars2.mp4: 640x640 3 persons, 2 vehicles, 144.3ms\n",
            "video 1/1 (57/188) C:\\Users\\sub13\\yolov5\\yolov5\\data\\images\\cars2.mp4: 640x640 3 persons, 2 vehicles, 144.0ms\n",
            "video 1/1 (58/188) C:\\Users\\sub13\\yolov5\\yolov5\\data\\images\\cars2.mp4: 640x640 2 persons, 3 vehicles, 142.3ms\n",
            "video 1/1 (59/188) C:\\Users\\sub13\\yolov5\\yolov5\\data\\images\\cars2.mp4: 640x640 2 persons, 3 vehicles, 145.2ms\n",
            "video 1/1 (60/188) C:\\Users\\sub13\\yolov5\\yolov5\\data\\images\\cars2.mp4: 640x640 2 persons, 2 vehicles, 140.7ms\n",
            "video 1/1 (61/188) C:\\Users\\sub13\\yolov5\\yolov5\\data\\images\\cars2.mp4: 640x640 2 persons, 2 vehicles, 144.3ms\n",
            "video 1/1 (62/188) C:\\Users\\sub13\\yolov5\\yolov5\\data\\images\\cars2.mp4: 640x640 2 persons, 3 vehicles, 145.9ms\n",
            "video 1/1 (63/188) C:\\Users\\sub13\\yolov5\\yolov5\\data\\images\\cars2.mp4: 640x640 2 persons, 2 vehicles, 145.5ms\n",
            "video 1/1 (64/188) C:\\Users\\sub13\\yolov5\\yolov5\\data\\images\\cars2.mp4: 640x640 1 person, 2 vehicles, 151.6ms\n",
            "video 1/1 (65/188) C:\\Users\\sub13\\yolov5\\yolov5\\data\\images\\cars2.mp4: 640x640 1 person, 3 vehicles, 143.8ms\n",
            "video 1/1 (66/188) C:\\Users\\sub13\\yolov5\\yolov5\\data\\images\\cars2.mp4: 640x640 2 persons, 2 vehicles, 142.5ms\n",
            "video 1/1 (67/188) C:\\Users\\sub13\\yolov5\\yolov5\\data\\images\\cars2.mp4: 640x640 2 persons, 2 vehicles, 141.0ms\n",
            "video 1/1 (68/188) C:\\Users\\sub13\\yolov5\\yolov5\\data\\images\\cars2.mp4: 640x640 3 persons, 2 vehicles, 146.4ms\n",
            "video 1/1 (69/188) C:\\Users\\sub13\\yolov5\\yolov5\\data\\images\\cars2.mp4: 640x640 2 persons, 2 vehicles, 166.3ms\n",
            "video 1/1 (70/188) C:\\Users\\sub13\\yolov5\\yolov5\\data\\images\\cars2.mp4: 640x640 2 persons, 2 vehicles, 142.7ms\n",
            "video 1/1 (71/188) C:\\Users\\sub13\\yolov5\\yolov5\\data\\images\\cars2.mp4: 640x640 2 persons, 2 vehicles, 152.9ms\n",
            "video 1/1 (72/188) C:\\Users\\sub13\\yolov5\\yolov5\\data\\images\\cars2.mp4: 640x640 2 persons, 3 vehicles, 139.9ms\n",
            "video 1/1 (73/188) C:\\Users\\sub13\\yolov5\\yolov5\\data\\images\\cars2.mp4: 640x640 1 person, 4 vehicles, 145.0ms\n",
            "video 1/1 (74/188) C:\\Users\\sub13\\yolov5\\yolov5\\data\\images\\cars2.mp4: 640x640 1 person, 2 vehicles, 147.5ms\n",
            "video 1/1 (75/188) C:\\Users\\sub13\\yolov5\\yolov5\\data\\images\\cars2.mp4: 640x640 1 person, 2 vehicles, 143.7ms\n",
            "video 1/1 (76/188) C:\\Users\\sub13\\yolov5\\yolov5\\data\\images\\cars2.mp4: 640x640 1 person, 2 vehicles, 145.3ms\n",
            "video 1/1 (77/188) C:\\Users\\sub13\\yolov5\\yolov5\\data\\images\\cars2.mp4: 640x640 1 person, 2 vehicles, 155.0ms\n",
            "video 1/1 (78/188) C:\\Users\\sub13\\yolov5\\yolov5\\data\\images\\cars2.mp4: 640x640 1 person, 2 vehicles, 145.1ms\n",
            "video 1/1 (79/188) C:\\Users\\sub13\\yolov5\\yolov5\\data\\images\\cars2.mp4: 640x640 2 persons, 2 vehicles, 153.7ms\n",
            "video 1/1 (80/188) C:\\Users\\sub13\\yolov5\\yolov5\\data\\images\\cars2.mp4: 640x640 4 persons, 2 vehicles, 142.5ms\n",
            "video 1/1 (81/188) C:\\Users\\sub13\\yolov5\\yolov5\\data\\images\\cars2.mp4: 640x640 4 persons, 2 vehicles, 163.3ms\n",
            "video 1/1 (82/188) C:\\Users\\sub13\\yolov5\\yolov5\\data\\images\\cars2.mp4: 640x640 4 persons, 3 vehicles, 198.3ms\n",
            "video 1/1 (83/188) C:\\Users\\sub13\\yolov5\\yolov5\\data\\images\\cars2.mp4: 640x640 3 persons, 2 vehicles, 234.5ms\n",
            "video 1/1 (84/188) C:\\Users\\sub13\\yolov5\\yolov5\\data\\images\\cars2.mp4: 640x640 3 persons, 2 vehicles, 218.3ms\n",
            "video 1/1 (85/188) C:\\Users\\sub13\\yolov5\\yolov5\\data\\images\\cars2.mp4: 640x640 3 persons, 1 vehicle, 209.9ms\n",
            "video 1/1 (86/188) C:\\Users\\sub13\\yolov5\\yolov5\\data\\images\\cars2.mp4: 640x640 3 persons, 2 vehicles, 214.8ms\n",
            "video 1/1 (87/188) C:\\Users\\sub13\\yolov5\\yolov5\\data\\images\\cars2.mp4: 640x640 2 persons, 1 vehicle, 235.4ms\n",
            "video 1/1 (88/188) C:\\Users\\sub13\\yolov5\\yolov5\\data\\images\\cars2.mp4: 640x640 1 person, 1 vehicle, 224.5ms\n",
            "video 1/1 (89/188) C:\\Users\\sub13\\yolov5\\yolov5\\data\\images\\cars2.mp4: 640x640 1 person, 2 vehicles, 210.0ms\n",
            "video 1/1 (90/188) C:\\Users\\sub13\\yolov5\\yolov5\\data\\images\\cars2.mp4: 640x640 1 person, 2 vehicles, 211.1ms\n",
            "video 1/1 (91/188) C:\\Users\\sub13\\yolov5\\yolov5\\data\\images\\cars2.mp4: 640x640 1 person, 1 vehicle, 225.9ms\n",
            "video 1/1 (92/188) C:\\Users\\sub13\\yolov5\\yolov5\\data\\images\\cars2.mp4: 640x640 1 person, 1 vehicle, 222.8ms\n",
            "video 1/1 (93/188) C:\\Users\\sub13\\yolov5\\yolov5\\data\\images\\cars2.mp4: 640x640 2 persons, 1 vehicle, 210.9ms\n",
            "video 1/1 (94/188) C:\\Users\\sub13\\yolov5\\yolov5\\data\\images\\cars2.mp4: 640x640 3 persons, 1 vehicle, 232.9ms\n",
            "video 1/1 (95/188) C:\\Users\\sub13\\yolov5\\yolov5\\data\\images\\cars2.mp4: 640x640 2 persons, 1 vehicle, 224.3ms\n",
            "video 1/1 (96/188) C:\\Users\\sub13\\yolov5\\yolov5\\data\\images\\cars2.mp4: 640x640 2 persons, 2 vehicles, 201.5ms\n",
            "video 1/1 (97/188) C:\\Users\\sub13\\yolov5\\yolov5\\data\\images\\cars2.mp4: 640x640 2 persons, 1 vehicle, 212.5ms\n",
            "video 1/1 (98/188) C:\\Users\\sub13\\yolov5\\yolov5\\data\\images\\cars2.mp4: 640x640 3 persons, 2 vehicles, 236.2ms\n",
            "video 1/1 (99/188) C:\\Users\\sub13\\yolov5\\yolov5\\data\\images\\cars2.mp4: 640x640 2 persons, 2 vehicles, 218.6ms\n",
            "video 1/1 (100/188) C:\\Users\\sub13\\yolov5\\yolov5\\data\\images\\cars2.mp4: 640x640 2 persons, 2 vehicles, 204.4ms\n",
            "video 1/1 (101/188) C:\\Users\\sub13\\yolov5\\yolov5\\data\\images\\cars2.mp4: 640x640 2 persons, 2 vehicles, 206.0ms\n",
            "video 1/1 (102/188) C:\\Users\\sub13\\yolov5\\yolov5\\data\\images\\cars2.mp4: 640x640 1 person, 2 vehicles, 231.3ms\n",
            "video 1/1 (103/188) C:\\Users\\sub13\\yolov5\\yolov5\\data\\images\\cars2.mp4: 640x640 2 persons, 3 vehicles, 212.0ms\n",
            "video 1/1 (104/188) C:\\Users\\sub13\\yolov5\\yolov5\\data\\images\\cars2.mp4: 640x640 2 persons, 2 vehicles, 215.0ms\n",
            "video 1/1 (105/188) C:\\Users\\sub13\\yolov5\\yolov5\\data\\images\\cars2.mp4: 640x640 2 persons, 4 vehicles, 203.6ms\n",
            "video 1/1 (106/188) C:\\Users\\sub13\\yolov5\\yolov5\\data\\images\\cars2.mp4: 640x640 2 persons, 3 vehicles, 236.1ms\n",
            "video 1/1 (107/188) C:\\Users\\sub13\\yolov5\\yolov5\\data\\images\\cars2.mp4: 640x640 3 persons, 2 vehicles, 223.0ms\n",
            "video 1/1 (108/188) C:\\Users\\sub13\\yolov5\\yolov5\\data\\images\\cars2.mp4: 640x640 2 persons, 2 vehicles, 234.6ms\n",
            "video 1/1 (109/188) C:\\Users\\sub13\\yolov5\\yolov5\\data\\images\\cars2.mp4: 640x640 2 persons, 2 vehicles, 206.6ms\n",
            "video 1/1 (110/188) C:\\Users\\sub13\\yolov5\\yolov5\\data\\images\\cars2.mp4: 640x640 2 persons, 2 vehicles, 227.3ms\n",
            "video 1/1 (111/188) C:\\Users\\sub13\\yolov5\\yolov5\\data\\images\\cars2.mp4: 640x640 2 persons, 2 vehicles, 219.2ms\n",
            "video 1/1 (112/188) C:\\Users\\sub13\\yolov5\\yolov5\\data\\images\\cars2.mp4: 640x640 2 persons, 2 vehicles, 205.8ms\n",
            "video 1/1 (113/188) C:\\Users\\sub13\\yolov5\\yolov5\\data\\images\\cars2.mp4: 640x640 2 persons, 2 vehicles, 210.9ms\n",
            "video 1/1 (114/188) C:\\Users\\sub13\\yolov5\\yolov5\\data\\images\\cars2.mp4: 640x640 1 person, 1 vehicle, 231.8ms\n",
            "video 1/1 (115/188) C:\\Users\\sub13\\yolov5\\yolov5\\data\\images\\cars2.mp4: 640x640 1 person, 2 vehicles, 218.6ms\n",
            "video 1/1 (116/188) C:\\Users\\sub13\\yolov5\\yolov5\\data\\images\\cars2.mp4: 640x640 1 person, 1 vehicle, 208.5ms\n",
            "video 1/1 (117/188) C:\\Users\\sub13\\yolov5\\yolov5\\data\\images\\cars2.mp4: 640x640 1 person, 1 vehicle, 226.1ms\n",
            "video 1/1 (118/188) C:\\Users\\sub13\\yolov5\\yolov5\\data\\images\\cars2.mp4: 640x640 1 person, 2 vehicles, 222.7ms\n",
            "video 1/1 (119/188) C:\\Users\\sub13\\yolov5\\yolov5\\data\\images\\cars2.mp4: 640x640 1 person, 2 vehicles, 208.8ms\n",
            "video 1/1 (120/188) C:\\Users\\sub13\\yolov5\\yolov5\\data\\images\\cars2.mp4: 640x640 1 person, 2 vehicles, 203.5ms\n",
            "video 1/1 (121/188) C:\\Users\\sub13\\yolov5\\yolov5\\data\\images\\cars2.mp4: 640x640 1 person, 1 vehicle, 216.9ms\n",
            "video 1/1 (122/188) C:\\Users\\sub13\\yolov5\\yolov5\\data\\images\\cars2.mp4: 640x640 1 person, 1 vehicle, 231.0ms\n",
            "video 1/1 (123/188) C:\\Users\\sub13\\yolov5\\yolov5\\data\\images\\cars2.mp4: 640x640 1 person, 1 vehicle, 213.5ms\n",
            "video 1/1 (124/188) C:\\Users\\sub13\\yolov5\\yolov5\\data\\images\\cars2.mp4: 640x640 1 person, 1 vehicle, 212.8ms\n",
            "video 1/1 (125/188) C:\\Users\\sub13\\yolov5\\yolov5\\data\\images\\cars2.mp4: 640x640 1 person, 2 vehicles, 208.6ms\n",
            "video 1/1 (126/188) C:\\Users\\sub13\\yolov5\\yolov5\\data\\images\\cars2.mp4: 640x640 1 person, 217.5ms\n",
            "video 1/1 (127/188) C:\\Users\\sub13\\yolov5\\yolov5\\data\\images\\cars2.mp4: 640x640 1 person, 1 vehicle, 223.1ms\n",
            "video 1/1 (128/188) C:\\Users\\sub13\\yolov5\\yolov5\\data\\images\\cars2.mp4: 640x640 1 person, 1 vehicle, 211.8ms\n",
            "video 1/1 (129/188) C:\\Users\\sub13\\yolov5\\yolov5\\data\\images\\cars2.mp4: 640x640 1 person, 205.1ms\n",
            "video 1/1 (130/188) C:\\Users\\sub13\\yolov5\\yolov5\\data\\images\\cars2.mp4: 640x640 1 person, 215.1ms\n",
            "video 1/1 (131/188) C:\\Users\\sub13\\yolov5\\yolov5\\data\\images\\cars2.mp4: 640x640 1 person, 220.9ms\n",
            "video 1/1 (132/188) C:\\Users\\sub13\\yolov5\\yolov5\\data\\images\\cars2.mp4: 640x640 1 person, 208.4ms\n",
            "video 1/1 (133/188) C:\\Users\\sub13\\yolov5\\yolov5\\data\\images\\cars2.mp4: 640x640 1 person, 204.5ms\n",
            "video 1/1 (134/188) C:\\Users\\sub13\\yolov5\\yolov5\\data\\images\\cars2.mp4: 640x640 1 person, 209.5ms\n",
            "video 1/1 (135/188) C:\\Users\\sub13\\yolov5\\yolov5\\data\\images\\cars2.mp4: 640x640 1 person, 217.5ms\n",
            "video 1/1 (136/188) C:\\Users\\sub13\\yolov5\\yolov5\\data\\images\\cars2.mp4: 640x640 1 person, 209.6ms\n",
            "video 1/1 (137/188) C:\\Users\\sub13\\yolov5\\yolov5\\data\\images\\cars2.mp4: 640x640 1 person, 205.5ms\n",
            "video 1/1 (138/188) C:\\Users\\sub13\\yolov5\\yolov5\\data\\images\\cars2.mp4: 640x640 1 person, 209.7ms\n",
            "video 1/1 (139/188) C:\\Users\\sub13\\yolov5\\yolov5\\data\\images\\cars2.mp4: 640x640 1 person, 225.1ms\n",
            "video 1/1 (140/188) C:\\Users\\sub13\\yolov5\\yolov5\\data\\images\\cars2.mp4: 640x640 1 person, 213.9ms\n",
            "video 1/1 (141/188) C:\\Users\\sub13\\yolov5\\yolov5\\data\\images\\cars2.mp4: 640x640 1 person, 209.8ms\n",
            "video 1/1 (142/188) C:\\Users\\sub13\\yolov5\\yolov5\\data\\images\\cars2.mp4: 640x640 1 person, 213.2ms\n",
            "video 1/1 (143/188) C:\\Users\\sub13\\yolov5\\yolov5\\data\\images\\cars2.mp4: 640x640 1 person, 227.2ms\n",
            "video 1/1 (144/188) C:\\Users\\sub13\\yolov5\\yolov5\\data\\images\\cars2.mp4: 640x640 1 person, 214.0ms\n",
            "video 1/1 (145/188) C:\\Users\\sub13\\yolov5\\yolov5\\data\\images\\cars2.mp4: 640x640 1 person, 212.3ms\n",
            "video 1/1 (146/188) C:\\Users\\sub13\\yolov5\\yolov5\\data\\images\\cars2.mp4: 640x640 1 person, 213.7ms\n",
            "video 1/1 (147/188) C:\\Users\\sub13\\yolov5\\yolov5\\data\\images\\cars2.mp4: 640x640 1 person, 224.2ms\n",
            "video 1/1 (148/188) C:\\Users\\sub13\\yolov5\\yolov5\\data\\images\\cars2.mp4: 640x640 1 person, 202.0ms\n",
            "video 1/1 (149/188) C:\\Users\\sub13\\yolov5\\yolov5\\data\\images\\cars2.mp4: 640x640 1 person, 206.4ms\n",
            "video 1/1 (150/188) C:\\Users\\sub13\\yolov5\\yolov5\\data\\images\\cars2.mp4: 640x640 1 person, 218.6ms\n",
            "video 1/1 (151/188) C:\\Users\\sub13\\yolov5\\yolov5\\data\\images\\cars2.mp4: 640x640 1 person, 217.4ms\n",
            "video 1/1 (152/188) C:\\Users\\sub13\\yolov5\\yolov5\\data\\images\\cars2.mp4: 640x640 1 person, 209.0ms\n",
            "video 1/1 (153/188) C:\\Users\\sub13\\yolov5\\yolov5\\data\\images\\cars2.mp4: 640x640 1 person, 239.6ms\n",
            "video 1/1 (154/188) C:\\Users\\sub13\\yolov5\\yolov5\\data\\images\\cars2.mp4: 640x640 1 person, 218.4ms\n",
            "video 1/1 (155/188) C:\\Users\\sub13\\yolov5\\yolov5\\data\\images\\cars2.mp4: 640x640 1 person, 225.7ms\n",
            "video 1/1 (156/188) C:\\Users\\sub13\\yolov5\\yolov5\\data\\images\\cars2.mp4: 640x640 1 person, 210.7ms\n",
            "video 1/1 (157/188) C:\\Users\\sub13\\yolov5\\yolov5\\data\\images\\cars2.mp4: 640x640 1 person, 1 vehicle, 216.4ms\n",
            "video 1/1 (158/188) C:\\Users\\sub13\\yolov5\\yolov5\\data\\images\\cars2.mp4: 640x640 1 person, 212.1ms\n",
            "video 1/1 (159/188) C:\\Users\\sub13\\yolov5\\yolov5\\data\\images\\cars2.mp4: 640x640 1 person, 223.6ms\n",
            "video 1/1 (160/188) C:\\Users\\sub13\\yolov5\\yolov5\\data\\images\\cars2.mp4: 640x640 1 person, 207.0ms\n",
            "video 1/1 (161/188) C:\\Users\\sub13\\yolov5\\yolov5\\data\\images\\cars2.mp4: 640x640 1 person, 210.7ms\n",
            "video 1/1 (162/188) C:\\Users\\sub13\\yolov5\\yolov5\\data\\images\\cars2.mp4: 640x640 1 person, 205.3ms\n",
            "video 1/1 (163/188) C:\\Users\\sub13\\yolov5\\yolov5\\data\\images\\cars2.mp4: 640x640 1 person, 225.1ms\n",
            "video 1/1 (164/188) C:\\Users\\sub13\\yolov5\\yolov5\\data\\images\\cars2.mp4: 640x640 1 person, 214.2ms\n",
            "video 1/1 (165/188) C:\\Users\\sub13\\yolov5\\yolov5\\data\\images\\cars2.mp4: 640x640 1 person, 211.1ms\n",
            "video 1/1 (166/188) C:\\Users\\sub13\\yolov5\\yolov5\\data\\images\\cars2.mp4: 640x640 1 person, 208.4ms\n",
            "video 1/1 (167/188) C:\\Users\\sub13\\yolov5\\yolov5\\data\\images\\cars2.mp4: 640x640 1 person, 226.7ms\n",
            "video 1/1 (168/188) C:\\Users\\sub13\\yolov5\\yolov5\\data\\images\\cars2.mp4: 640x640 1 person, 212.8ms\n",
            "video 1/1 (169/188) C:\\Users\\sub13\\yolov5\\yolov5\\data\\images\\cars2.mp4: 640x640 1 person, 204.1ms\n",
            "video 1/1 (170/188) C:\\Users\\sub13\\yolov5\\yolov5\\data\\images\\cars2.mp4: 640x640 1 person, 203.2ms\n",
            "video 1/1 (171/188) C:\\Users\\sub13\\yolov5\\yolov5\\data\\images\\cars2.mp4: 640x640 1 person, 224.3ms\n",
            "video 1/1 (172/188) C:\\Users\\sub13\\yolov5\\yolov5\\data\\images\\cars2.mp4: 640x640 1 person, 221.5ms\n",
            "video 1/1 (173/188) C:\\Users\\sub13\\yolov5\\yolov5\\data\\images\\cars2.mp4: 640x640 1 person, 208.4ms\n",
            "video 1/1 (174/188) C:\\Users\\sub13\\yolov5\\yolov5\\data\\images\\cars2.mp4: 640x640 1 person, 204.9ms\n",
            "video 1/1 (175/188) C:\\Users\\sub13\\yolov5\\yolov5\\data\\images\\cars2.mp4: 640x640 1 person, 207.6ms\n",
            "video 1/1 (176/188) C:\\Users\\sub13\\yolov5\\yolov5\\data\\images\\cars2.mp4: 640x640 1 person, 232.2ms\n",
            "video 1/1 (177/188) C:\\Users\\sub13\\yolov5\\yolov5\\data\\images\\cars2.mp4: 640x640 1 person, 223.7ms\n",
            "video 1/1 (178/188) C:\\Users\\sub13\\yolov5\\yolov5\\data\\images\\cars2.mp4: 640x640 1 person, 225.0ms\n",
            "video 1/1 (179/188) C:\\Users\\sub13\\yolov5\\yolov5\\data\\images\\cars2.mp4: 640x640 1 person, 255.5ms\n",
            "video 1/1 (180/188) C:\\Users\\sub13\\yolov5\\yolov5\\data\\images\\cars2.mp4: 640x640 1 person, 240.1ms\n",
            "video 1/1 (181/188) C:\\Users\\sub13\\yolov5\\yolov5\\data\\images\\cars2.mp4: 640x640 1 person, 209.6ms\n",
            "video 1/1 (182/188) C:\\Users\\sub13\\yolov5\\yolov5\\data\\images\\cars2.mp4: 640x640 1 person, 231.0ms\n",
            "video 1/1 (183/188) C:\\Users\\sub13\\yolov5\\yolov5\\data\\images\\cars2.mp4: 640x640 1 person, 228.6ms\n",
            "video 1/1 (184/188) C:\\Users\\sub13\\yolov5\\yolov5\\data\\images\\cars2.mp4: 640x640 1 person, 219.1ms\n",
            "video 1/1 (185/188) C:\\Users\\sub13\\yolov5\\yolov5\\data\\images\\cars2.mp4: 640x640 1 person, 211.2ms\n",
            "video 1/1 (186/188) C:\\Users\\sub13\\yolov5\\yolov5\\data\\images\\cars2.mp4: 640x640 1 person, 260.3ms\n",
            "video 1/1 (187/188) C:\\Users\\sub13\\yolov5\\yolov5\\data\\images\\cars2.mp4: 640x640 1 person, 227.0ms\n",
            "video 1/1 (188/188) C:\\Users\\sub13\\yolov5\\yolov5\\data\\images\\cars2.mp4: 640x640 1 person, 199.2ms\n",
            "Speed: 1.9ms pre-process, 187.1ms inference, 1.4ms NMS per image at shape (1, 3, 640, 640)\n",
            "Results saved to \u001b[1mruns\\detect\\exp22\u001b[0m\n"
          ]
        }
      ],
      "source": [
        "# Inference Performed Using custom model .onnx weight on video\n",
        "!python detect.py --weights final.onnx --source ./data/images/cars2.mp4\n",
        "#\"D:/New_dir/Image_data_man_and_vehicle/Auto_and_manual_images_merged_files_renamed_800/image 1.jpg\""
      ]
    },
    {
      "cell_type": "code",
      "execution_count": null,
      "id": "4de59296",
      "metadata": {
        "id": "4de59296"
      },
      "outputs": [],
      "source": []
    },
    {
      "cell_type": "code",
      "execution_count": null,
      "id": "d6ac1337",
      "metadata": {
        "id": "d6ac1337"
      },
      "outputs": [],
      "source": []
    },
    {
      "cell_type": "markdown",
      "id": "40ef37e3",
      "metadata": {
        "id": "40ef37e3"
      },
      "source": [
        "### Inference Performed Using custom model torchscript weight on webcam\n"
      ]
    },
    {
      "cell_type": "code",
      "execution_count": null,
      "id": "3f4193b7",
      "metadata": {
        "id": "3f4193b7"
      },
      "outputs": [],
      "source": [
        "# Inference Performed Using custom model torchscript weight on webcam\n",
        "\n",
        "!python detect.py --weights final.torchscript --source 0 \n",
        "#final.torchscript"
      ]
    },
    {
      "cell_type": "markdown",
      "id": "930b117d",
      "metadata": {
        "id": "930b117d"
      },
      "source": [
        "### Inference Performed Using custom model torchscript weight on image\n"
      ]
    },
    {
      "cell_type": "code",
      "execution_count": null,
      "id": "78e6eb38",
      "metadata": {
        "id": "78e6eb38",
        "outputId": "74a2480f-c48b-4ffc-a257-0ee5f8fa2f59"
      },
      "outputs": [
        {
          "name": "stderr",
          "output_type": "stream",
          "text": [
            "\u001b[34m\u001b[1mdetect: \u001b[0mweights=['final.torchscript'], source=./data/images/bus.jpg, data=data\\coco128.yaml, imgsz=[640, 640], conf_thres=0.25, iou_thres=0.45, max_det=1000, device=, view_img=False, save_txt=False, save_conf=False, save_crop=False, nosave=False, classes=None, agnostic_nms=False, augment=False, visualize=False, update=False, project=runs\\detect, name=exp, exist_ok=False, line_thickness=3, hide_labels=False, hide_conf=False, half=False, dnn=False, vid_stride=1\n",
            "YOLOv5  v6.2-205-geef9057 Python-3.9.13 torch-1.12.1+cpu CPU\n",
            "\n",
            "Loading final.torchscript for TorchScript inference...\n",
            "image 1/1 C:\\Users\\sub13\\yolov5\\yolov5\\data\\images\\bus.jpg: 640x640 3 persons, 1 vehicle, 571.0ms\n",
            "Speed: 2.0ms pre-process, 571.0ms inference, 1.0ms NMS per image at shape (1, 3, 640, 640)\n",
            "Results saved to \u001b[1mruns\\detect\\exp21\u001b[0m\n"
          ]
        }
      ],
      "source": [
        "# Inference Performed Using custom model torchscript weight on image\n",
        "\n",
        "!python detect.py --weights final.torchscript --source ./data/images/bus.jpg\n",
        "\n",
        "#final.torchscript"
      ]
    },
    {
      "cell_type": "markdown",
      "id": "7607c783",
      "metadata": {
        "id": "7607c783"
      },
      "source": [
        "### Inference Performed Using custom model torchscript weight on video\n"
      ]
    },
    {
      "cell_type": "code",
      "execution_count": null,
      "id": "85a09103",
      "metadata": {
        "id": "85a09103",
        "outputId": "87b557ea-8843-43b3-baa8-ff1bd74861dd"
      },
      "outputs": [
        {
          "name": "stderr",
          "output_type": "stream",
          "text": [
            "\u001b[34m\u001b[1mdetect: \u001b[0mweights=['final.torchscript'], source=./data/images/cars2.mp4, data=data\\coco128.yaml, imgsz=[640, 640], conf_thres=0.25, iou_thres=0.45, max_det=1000, device=, view_img=False, save_txt=False, save_conf=False, save_crop=False, nosave=False, classes=None, agnostic_nms=False, augment=False, visualize=False, update=False, project=runs\\detect, name=exp, exist_ok=False, line_thickness=3, hide_labels=False, hide_conf=False, half=False, dnn=False, vid_stride=1\n",
            "YOLOv5  v6.2-205-geef9057 Python-3.9.13 torch-1.12.1+cpu CPU\n",
            "\n",
            "Loading final.torchscript for TorchScript inference...\n",
            "video 1/1 (1/188) C:\\Users\\sub13\\yolov5\\yolov5\\data\\images\\cars2.mp4: 640x640 1 person, 2 vehicles, 541.3ms\n",
            "video 1/1 (2/188) C:\\Users\\sub13\\yolov5\\yolov5\\data\\images\\cars2.mp4: 640x640 1 person, 2 vehicles, 466.0ms\n",
            "video 1/1 (3/188) C:\\Users\\sub13\\yolov5\\yolov5\\data\\images\\cars2.mp4: 640x640 1 person, 2 vehicles, 388.3ms\n",
            "video 1/1 (4/188) C:\\Users\\sub13\\yolov5\\yolov5\\data\\images\\cars2.mp4: 640x640 1 person, 3 vehicles, 416.1ms\n",
            "video 1/1 (5/188) C:\\Users\\sub13\\yolov5\\yolov5\\data\\images\\cars2.mp4: 640x640 2 persons, 3 vehicles, 440.8ms\n",
            "video 1/1 (6/188) C:\\Users\\sub13\\yolov5\\yolov5\\data\\images\\cars2.mp4: 640x640 2 persons, 2 vehicles, 450.8ms\n",
            "video 1/1 (7/188) C:\\Users\\sub13\\yolov5\\yolov5\\data\\images\\cars2.mp4: 640x640 1 person, 2 vehicles, 421.3ms\n",
            "video 1/1 (8/188) C:\\Users\\sub13\\yolov5\\yolov5\\data\\images\\cars2.mp4: 640x640 1 person, 2 vehicles, 420.6ms\n",
            "video 1/1 (9/188) C:\\Users\\sub13\\yolov5\\yolov5\\data\\images\\cars2.mp4: 640x640 1 person, 3 vehicles, 421.1ms\n",
            "video 1/1 (10/188) C:\\Users\\sub13\\yolov5\\yolov5\\data\\images\\cars2.mp4: 640x640 1 person, 3 vehicles, 444.5ms\n",
            "video 1/1 (11/188) C:\\Users\\sub13\\yolov5\\yolov5\\data\\images\\cars2.mp4: 640x640 1 person, 2 vehicles, 395.9ms\n",
            "video 1/1 (12/188) C:\\Users\\sub13\\yolov5\\yolov5\\data\\images\\cars2.mp4: 640x640 1 person, 3 vehicles, 402.3ms\n",
            "video 1/1 (13/188) C:\\Users\\sub13\\yolov5\\yolov5\\data\\images\\cars2.mp4: 640x640 1 person, 3 vehicles, 398.6ms\n",
            "video 1/1 (14/188) C:\\Users\\sub13\\yolov5\\yolov5\\data\\images\\cars2.mp4: 640x640 1 person, 3 vehicles, 398.1ms\n",
            "video 1/1 (15/188) C:\\Users\\sub13\\yolov5\\yolov5\\data\\images\\cars2.mp4: 640x640 1 person, 3 vehicles, 402.8ms\n",
            "video 1/1 (16/188) C:\\Users\\sub13\\yolov5\\yolov5\\data\\images\\cars2.mp4: 640x640 2 persons, 3 vehicles, 407.6ms\n",
            "video 1/1 (17/188) C:\\Users\\sub13\\yolov5\\yolov5\\data\\images\\cars2.mp4: 640x640 1 person, 2 vehicles, 398.3ms\n",
            "video 1/1 (18/188) C:\\Users\\sub13\\yolov5\\yolov5\\data\\images\\cars2.mp4: 640x640 1 person, 2 vehicles, 414.0ms\n",
            "video 1/1 (19/188) C:\\Users\\sub13\\yolov5\\yolov5\\data\\images\\cars2.mp4: 640x640 1 person, 2 vehicles, 408.1ms\n",
            "video 1/1 (20/188) C:\\Users\\sub13\\yolov5\\yolov5\\data\\images\\cars2.mp4: 640x640 1 person, 2 vehicles, 404.8ms\n",
            "video 1/1 (21/188) C:\\Users\\sub13\\yolov5\\yolov5\\data\\images\\cars2.mp4: 640x640 1 person, 2 vehicles, 406.3ms\n",
            "video 1/1 (22/188) C:\\Users\\sub13\\yolov5\\yolov5\\data\\images\\cars2.mp4: 640x640 1 person, 2 vehicles, 382.6ms\n",
            "video 1/1 (23/188) C:\\Users\\sub13\\yolov5\\yolov5\\data\\images\\cars2.mp4: 640x640 1 person, 2 vehicles, 414.5ms\n",
            "video 1/1 (24/188) C:\\Users\\sub13\\yolov5\\yolov5\\data\\images\\cars2.mp4: 640x640 1 person, 2 vehicles, 412.3ms\n",
            "video 1/1 (25/188) C:\\Users\\sub13\\yolov5\\yolov5\\data\\images\\cars2.mp4: 640x640 1 person, 2 vehicles, 394.3ms\n",
            "video 1/1 (26/188) C:\\Users\\sub13\\yolov5\\yolov5\\data\\images\\cars2.mp4: 640x640 1 person, 2 vehicles, 406.4ms\n",
            "video 1/1 (27/188) C:\\Users\\sub13\\yolov5\\yolov5\\data\\images\\cars2.mp4: 640x640 1 person, 2 vehicles, 430.8ms\n",
            "video 1/1 (28/188) C:\\Users\\sub13\\yolov5\\yolov5\\data\\images\\cars2.mp4: 640x640 1 person, 2 vehicles, 409.2ms\n",
            "video 1/1 (29/188) C:\\Users\\sub13\\yolov5\\yolov5\\data\\images\\cars2.mp4: 640x640 1 person, 2 vehicles, 408.4ms\n",
            "video 1/1 (30/188) C:\\Users\\sub13\\yolov5\\yolov5\\data\\images\\cars2.mp4: 640x640 1 person, 2 vehicles, 411.4ms\n",
            "video 1/1 (31/188) C:\\Users\\sub13\\yolov5\\yolov5\\data\\images\\cars2.mp4: 640x640 1 person, 3 vehicles, 415.7ms\n",
            "video 1/1 (32/188) C:\\Users\\sub13\\yolov5\\yolov5\\data\\images\\cars2.mp4: 640x640 1 person, 3 vehicles, 448.8ms\n",
            "video 1/1 (33/188) C:\\Users\\sub13\\yolov5\\yolov5\\data\\images\\cars2.mp4: 640x640 1 person, 3 vehicles, 426.1ms\n",
            "video 1/1 (34/188) C:\\Users\\sub13\\yolov5\\yolov5\\data\\images\\cars2.mp4: 640x640 1 person, 2 vehicles, 402.8ms\n",
            "video 1/1 (35/188) C:\\Users\\sub13\\yolov5\\yolov5\\data\\images\\cars2.mp4: 640x640 1 person, 3 vehicles, 396.7ms\n",
            "video 1/1 (36/188) C:\\Users\\sub13\\yolov5\\yolov5\\data\\images\\cars2.mp4: 640x640 1 person, 3 vehicles, 395.0ms\n",
            "video 1/1 (37/188) C:\\Users\\sub13\\yolov5\\yolov5\\data\\images\\cars2.mp4: 640x640 1 person, 3 vehicles, 400.2ms\n",
            "video 1/1 (38/188) C:\\Users\\sub13\\yolov5\\yolov5\\data\\images\\cars2.mp4: 640x640 1 person, 2 vehicles, 398.3ms\n",
            "video 1/1 (39/188) C:\\Users\\sub13\\yolov5\\yolov5\\data\\images\\cars2.mp4: 640x640 1 person, 2 vehicles, 386.6ms\n",
            "video 1/1 (40/188) C:\\Users\\sub13\\yolov5\\yolov5\\data\\images\\cars2.mp4: 640x640 1 person, 3 vehicles, 433.3ms\n",
            "video 1/1 (41/188) C:\\Users\\sub13\\yolov5\\yolov5\\data\\images\\cars2.mp4: 640x640 2 persons, 2 vehicles, 460.3ms\n",
            "video 1/1 (42/188) C:\\Users\\sub13\\yolov5\\yolov5\\data\\images\\cars2.mp4: 640x640 1 person, 2 vehicles, 579.1ms\n",
            "video 1/1 (43/188) C:\\Users\\sub13\\yolov5\\yolov5\\data\\images\\cars2.mp4: 640x640 1 person, 2 vehicles, 590.9ms\n",
            "video 1/1 (44/188) C:\\Users\\sub13\\yolov5\\yolov5\\data\\images\\cars2.mp4: 640x640 2 persons, 2 vehicles, 565.4ms\n",
            "video 1/1 (45/188) C:\\Users\\sub13\\yolov5\\yolov5\\data\\images\\cars2.mp4: 640x640 2 persons, 2 vehicles, 580.1ms\n",
            "video 1/1 (46/188) C:\\Users\\sub13\\yolov5\\yolov5\\data\\images\\cars2.mp4: 640x640 2 persons, 2 vehicles, 558.0ms\n",
            "video 1/1 (47/188) C:\\Users\\sub13\\yolov5\\yolov5\\data\\images\\cars2.mp4: 640x640 1 person, 2 vehicles, 575.0ms\n",
            "video 1/1 (48/188) C:\\Users\\sub13\\yolov5\\yolov5\\data\\images\\cars2.mp4: 640x640 1 person, 3 vehicles, 566.2ms\n",
            "video 1/1 (49/188) C:\\Users\\sub13\\yolov5\\yolov5\\data\\images\\cars2.mp4: 640x640 2 persons, 3 vehicles, 569.6ms\n",
            "video 1/1 (50/188) C:\\Users\\sub13\\yolov5\\yolov5\\data\\images\\cars2.mp4: 640x640 1 person, 3 vehicles, 562.3ms\n",
            "video 1/1 (51/188) C:\\Users\\sub13\\yolov5\\yolov5\\data\\images\\cars2.mp4: 640x640 1 person, 2 vehicles, 562.7ms\n",
            "video 1/1 (52/188) C:\\Users\\sub13\\yolov5\\yolov5\\data\\images\\cars2.mp4: 640x640 1 person, 2 vehicles, 566.9ms\n",
            "video 1/1 (53/188) C:\\Users\\sub13\\yolov5\\yolov5\\data\\images\\cars2.mp4: 640x640 1 person, 2 vehicles, 596.8ms\n",
            "video 1/1 (54/188) C:\\Users\\sub13\\yolov5\\yolov5\\data\\images\\cars2.mp4: 640x640 3 persons, 2 vehicles, 558.4ms\n",
            "video 1/1 (55/188) C:\\Users\\sub13\\yolov5\\yolov5\\data\\images\\cars2.mp4: 640x640 2 persons, 3 vehicles, 558.4ms\n",
            "video 1/1 (56/188) C:\\Users\\sub13\\yolov5\\yolov5\\data\\images\\cars2.mp4: 640x640 3 persons, 2 vehicles, 556.8ms\n",
            "video 1/1 (57/188) C:\\Users\\sub13\\yolov5\\yolov5\\data\\images\\cars2.mp4: 640x640 3 persons, 2 vehicles, 569.8ms\n",
            "video 1/1 (58/188) C:\\Users\\sub13\\yolov5\\yolov5\\data\\images\\cars2.mp4: 640x640 2 persons, 3 vehicles, 548.1ms\n",
            "video 1/1 (59/188) C:\\Users\\sub13\\yolov5\\yolov5\\data\\images\\cars2.mp4: 640x640 2 persons, 3 vehicles, 558.3ms\n",
            "video 1/1 (60/188) C:\\Users\\sub13\\yolov5\\yolov5\\data\\images\\cars2.mp4: 640x640 2 persons, 2 vehicles, 559.8ms\n",
            "video 1/1 (61/188) C:\\Users\\sub13\\yolov5\\yolov5\\data\\images\\cars2.mp4: 640x640 2 persons, 2 vehicles, 544.3ms\n",
            "video 1/1 (62/188) C:\\Users\\sub13\\yolov5\\yolov5\\data\\images\\cars2.mp4: 640x640 2 persons, 3 vehicles, 545.5ms\n",
            "video 1/1 (63/188) C:\\Users\\sub13\\yolov5\\yolov5\\data\\images\\cars2.mp4: 640x640 2 persons, 2 vehicles, 547.7ms\n",
            "video 1/1 (64/188) C:\\Users\\sub13\\yolov5\\yolov5\\data\\images\\cars2.mp4: 640x640 1 person, 2 vehicles, 549.8ms\n",
            "video 1/1 (65/188) C:\\Users\\sub13\\yolov5\\yolov5\\data\\images\\cars2.mp4: 640x640 1 person, 3 vehicles, 543.3ms\n",
            "video 1/1 (66/188) C:\\Users\\sub13\\yolov5\\yolov5\\data\\images\\cars2.mp4: 640x640 2 persons, 2 vehicles, 539.6ms\n",
            "video 1/1 (67/188) C:\\Users\\sub13\\yolov5\\yolov5\\data\\images\\cars2.mp4: 640x640 2 persons, 2 vehicles, 550.5ms\n",
            "video 1/1 (68/188) C:\\Users\\sub13\\yolov5\\yolov5\\data\\images\\cars2.mp4: 640x640 3 persons, 2 vehicles, 548.5ms\n",
            "video 1/1 (69/188) C:\\Users\\sub13\\yolov5\\yolov5\\data\\images\\cars2.mp4: 640x640 2 persons, 2 vehicles, 559.7ms\n",
            "video 1/1 (70/188) C:\\Users\\sub13\\yolov5\\yolov5\\data\\images\\cars2.mp4: 640x640 2 persons, 2 vehicles, 541.8ms\n",
            "video 1/1 (71/188) C:\\Users\\sub13\\yolov5\\yolov5\\data\\images\\cars2.mp4: 640x640 2 persons, 2 vehicles, 540.7ms\n",
            "video 1/1 (72/188) C:\\Users\\sub13\\yolov5\\yolov5\\data\\images\\cars2.mp4: 640x640 2 persons, 3 vehicles, 541.5ms\n",
            "video 1/1 (73/188) C:\\Users\\sub13\\yolov5\\yolov5\\data\\images\\cars2.mp4: 640x640 1 person, 4 vehicles, 537.9ms\n",
            "video 1/1 (74/188) C:\\Users\\sub13\\yolov5\\yolov5\\data\\images\\cars2.mp4: 640x640 1 person, 2 vehicles, 536.3ms\n",
            "video 1/1 (75/188) C:\\Users\\sub13\\yolov5\\yolov5\\data\\images\\cars2.mp4: 640x640 1 person, 2 vehicles, 536.5ms\n",
            "video 1/1 (76/188) C:\\Users\\sub13\\yolov5\\yolov5\\data\\images\\cars2.mp4: 640x640 1 person, 2 vehicles, 535.8ms\n",
            "video 1/1 (77/188) C:\\Users\\sub13\\yolov5\\yolov5\\data\\images\\cars2.mp4: 640x640 1 person, 2 vehicles, 543.0ms\n",
            "video 1/1 (78/188) C:\\Users\\sub13\\yolov5\\yolov5\\data\\images\\cars2.mp4: 640x640 1 person, 2 vehicles, 549.8ms\n",
            "video 1/1 (79/188) C:\\Users\\sub13\\yolov5\\yolov5\\data\\images\\cars2.mp4: 640x640 2 persons, 2 vehicles, 543.6ms\n",
            "video 1/1 (80/188) C:\\Users\\sub13\\yolov5\\yolov5\\data\\images\\cars2.mp4: 640x640 4 persons, 2 vehicles, 539.0ms\n",
            "video 1/1 (81/188) C:\\Users\\sub13\\yolov5\\yolov5\\data\\images\\cars2.mp4: 640x640 4 persons, 2 vehicles, 536.0ms\n",
            "video 1/1 (82/188) C:\\Users\\sub13\\yolov5\\yolov5\\data\\images\\cars2.mp4: 640x640 4 persons, 3 vehicles, 538.8ms\n",
            "video 1/1 (83/188) C:\\Users\\sub13\\yolov5\\yolov5\\data\\images\\cars2.mp4: 640x640 3 persons, 2 vehicles, 530.5ms\n",
            "video 1/1 (84/188) C:\\Users\\sub13\\yolov5\\yolov5\\data\\images\\cars2.mp4: 640x640 3 persons, 2 vehicles, 546.6ms\n",
            "video 1/1 (85/188) C:\\Users\\sub13\\yolov5\\yolov5\\data\\images\\cars2.mp4: 640x640 3 persons, 1 vehicle, 545.4ms\n",
            "video 1/1 (86/188) C:\\Users\\sub13\\yolov5\\yolov5\\data\\images\\cars2.mp4: 640x640 3 persons, 2 vehicles, 537.7ms\n",
            "video 1/1 (87/188) C:\\Users\\sub13\\yolov5\\yolov5\\data\\images\\cars2.mp4: 640x640 2 persons, 1 vehicle, 539.7ms\n",
            "video 1/1 (88/188) C:\\Users\\sub13\\yolov5\\yolov5\\data\\images\\cars2.mp4: 640x640 1 person, 1 vehicle, 536.7ms\n",
            "video 1/1 (89/188) C:\\Users\\sub13\\yolov5\\yolov5\\data\\images\\cars2.mp4: 640x640 1 person, 2 vehicles, 541.5ms\n",
            "video 1/1 (90/188) C:\\Users\\sub13\\yolov5\\yolov5\\data\\images\\cars2.mp4: 640x640 1 person, 2 vehicles, 548.1ms\n",
            "video 1/1 (91/188) C:\\Users\\sub13\\yolov5\\yolov5\\data\\images\\cars2.mp4: 640x640 1 person, 1 vehicle, 544.5ms\n",
            "video 1/1 (92/188) C:\\Users\\sub13\\yolov5\\yolov5\\data\\images\\cars2.mp4: 640x640 1 person, 1 vehicle, 552.9ms\n",
            "video 1/1 (93/188) C:\\Users\\sub13\\yolov5\\yolov5\\data\\images\\cars2.mp4: 640x640 2 persons, 1 vehicle, 537.4ms\n",
            "video 1/1 (94/188) C:\\Users\\sub13\\yolov5\\yolov5\\data\\images\\cars2.mp4: 640x640 3 persons, 1 vehicle, 530.2ms\n",
            "video 1/1 (95/188) C:\\Users\\sub13\\yolov5\\yolov5\\data\\images\\cars2.mp4: 640x640 2 persons, 1 vehicle, 531.6ms\n",
            "video 1/1 (96/188) C:\\Users\\sub13\\yolov5\\yolov5\\data\\images\\cars2.mp4: 640x640 2 persons, 2 vehicles, 564.1ms\n",
            "video 1/1 (97/188) C:\\Users\\sub13\\yolov5\\yolov5\\data\\images\\cars2.mp4: 640x640 2 persons, 1 vehicle, 517.7ms\n",
            "video 1/1 (98/188) C:\\Users\\sub13\\yolov5\\yolov5\\data\\images\\cars2.mp4: 640x640 3 persons, 2 vehicles, 551.2ms\n",
            "video 1/1 (99/188) C:\\Users\\sub13\\yolov5\\yolov5\\data\\images\\cars2.mp4: 640x640 2 persons, 2 vehicles, 530.7ms\n",
            "video 1/1 (100/188) C:\\Users\\sub13\\yolov5\\yolov5\\data\\images\\cars2.mp4: 640x640 2 persons, 2 vehicles, 545.3ms\n",
            "video 1/1 (101/188) C:\\Users\\sub13\\yolov5\\yolov5\\data\\images\\cars2.mp4: 640x640 2 persons, 2 vehicles, 541.3ms\n",
            "video 1/1 (102/188) C:\\Users\\sub13\\yolov5\\yolov5\\data\\images\\cars2.mp4: 640x640 1 person, 2 vehicles, 538.9ms\n",
            "video 1/1 (103/188) C:\\Users\\sub13\\yolov5\\yolov5\\data\\images\\cars2.mp4: 640x640 2 persons, 3 vehicles, 550.2ms\n",
            "video 1/1 (104/188) C:\\Users\\sub13\\yolov5\\yolov5\\data\\images\\cars2.mp4: 640x640 2 persons, 2 vehicles, 545.9ms\n",
            "video 1/1 (105/188) C:\\Users\\sub13\\yolov5\\yolov5\\data\\images\\cars2.mp4: 640x640 2 persons, 4 vehicles, 542.4ms\n",
            "video 1/1 (106/188) C:\\Users\\sub13\\yolov5\\yolov5\\data\\images\\cars2.mp4: 640x640 2 persons, 3 vehicles, 579.8ms\n",
            "video 1/1 (107/188) C:\\Users\\sub13\\yolov5\\yolov5\\data\\images\\cars2.mp4: 640x640 3 persons, 2 vehicles, 592.8ms\n",
            "video 1/1 (108/188) C:\\Users\\sub13\\yolov5\\yolov5\\data\\images\\cars2.mp4: 640x640 2 persons, 2 vehicles, 641.6ms\n",
            "video 1/1 (109/188) C:\\Users\\sub13\\yolov5\\yolov5\\data\\images\\cars2.mp4: 640x640 2 persons, 2 vehicles, 589.8ms\n",
            "video 1/1 (110/188) C:\\Users\\sub13\\yolov5\\yolov5\\data\\images\\cars2.mp4: 640x640 2 persons, 2 vehicles, 596.0ms\n",
            "video 1/1 (111/188) C:\\Users\\sub13\\yolov5\\yolov5\\data\\images\\cars2.mp4: 640x640 2 persons, 2 vehicles, 637.7ms\n",
            "video 1/1 (112/188) C:\\Users\\sub13\\yolov5\\yolov5\\data\\images\\cars2.mp4: 640x640 2 persons, 2 vehicles, 569.2ms\n",
            "video 1/1 (113/188) C:\\Users\\sub13\\yolov5\\yolov5\\data\\images\\cars2.mp4: 640x640 2 persons, 2 vehicles, 537.9ms\n",
            "video 1/1 (114/188) C:\\Users\\sub13\\yolov5\\yolov5\\data\\images\\cars2.mp4: 640x640 1 person, 1 vehicle, 553.2ms\n",
            "video 1/1 (115/188) C:\\Users\\sub13\\yolov5\\yolov5\\data\\images\\cars2.mp4: 640x640 1 person, 2 vehicles, 539.0ms\n",
            "video 1/1 (116/188) C:\\Users\\sub13\\yolov5\\yolov5\\data\\images\\cars2.mp4: 640x640 1 person, 1 vehicle, 558.2ms\n",
            "video 1/1 (117/188) C:\\Users\\sub13\\yolov5\\yolov5\\data\\images\\cars2.mp4: 640x640 1 person, 1 vehicle, 536.7ms\n",
            "video 1/1 (118/188) C:\\Users\\sub13\\yolov5\\yolov5\\data\\images\\cars2.mp4: 640x640 1 person, 2 vehicles, 547.0ms\n",
            "video 1/1 (119/188) C:\\Users\\sub13\\yolov5\\yolov5\\data\\images\\cars2.mp4: 640x640 1 person, 2 vehicles, 573.8ms\n",
            "video 1/1 (120/188) C:\\Users\\sub13\\yolov5\\yolov5\\data\\images\\cars2.mp4: 640x640 1 person, 2 vehicles, 543.5ms\n",
            "video 1/1 (121/188) C:\\Users\\sub13\\yolov5\\yolov5\\data\\images\\cars2.mp4: 640x640 1 person, 1 vehicle, 554.4ms\n",
            "video 1/1 (122/188) C:\\Users\\sub13\\yolov5\\yolov5\\data\\images\\cars2.mp4: 640x640 1 person, 1 vehicle, 544.0ms\n",
            "video 1/1 (123/188) C:\\Users\\sub13\\yolov5\\yolov5\\data\\images\\cars2.mp4: 640x640 1 person, 1 vehicle, 545.3ms\n",
            "video 1/1 (124/188) C:\\Users\\sub13\\yolov5\\yolov5\\data\\images\\cars2.mp4: 640x640 1 person, 1 vehicle, 538.2ms\n",
            "video 1/1 (125/188) C:\\Users\\sub13\\yolov5\\yolov5\\data\\images\\cars2.mp4: 640x640 1 person, 2 vehicles, 546.9ms\n",
            "video 1/1 (126/188) C:\\Users\\sub13\\yolov5\\yolov5\\data\\images\\cars2.mp4: 640x640 1 person, 548.4ms\n",
            "video 1/1 (127/188) C:\\Users\\sub13\\yolov5\\yolov5\\data\\images\\cars2.mp4: 640x640 1 person, 1 vehicle, 544.0ms\n",
            "video 1/1 (128/188) C:\\Users\\sub13\\yolov5\\yolov5\\data\\images\\cars2.mp4: 640x640 1 person, 1 vehicle, 543.1ms\n",
            "video 1/1 (129/188) C:\\Users\\sub13\\yolov5\\yolov5\\data\\images\\cars2.mp4: 640x640 1 person, 540.4ms\n",
            "video 1/1 (130/188) C:\\Users\\sub13\\yolov5\\yolov5\\data\\images\\cars2.mp4: 640x640 1 person, 546.2ms\n",
            "video 1/1 (131/188) C:\\Users\\sub13\\yolov5\\yolov5\\data\\images\\cars2.mp4: 640x640 1 person, 548.3ms\n",
            "video 1/1 (132/188) C:\\Users\\sub13\\yolov5\\yolov5\\data\\images\\cars2.mp4: 640x640 1 person, 541.7ms\n",
            "video 1/1 (133/188) C:\\Users\\sub13\\yolov5\\yolov5\\data\\images\\cars2.mp4: 640x640 1 person, 549.7ms\n",
            "video 1/1 (134/188) C:\\Users\\sub13\\yolov5\\yolov5\\data\\images\\cars2.mp4: 640x640 1 person, 546.8ms\n",
            "video 1/1 (135/188) C:\\Users\\sub13\\yolov5\\yolov5\\data\\images\\cars2.mp4: 640x640 1 person, 546.7ms\n",
            "video 1/1 (136/188) C:\\Users\\sub13\\yolov5\\yolov5\\data\\images\\cars2.mp4: 640x640 1 person, 599.0ms\n",
            "video 1/1 (137/188) C:\\Users\\sub13\\yolov5\\yolov5\\data\\images\\cars2.mp4: 640x640 1 person, 571.4ms\n",
            "video 1/1 (138/188) C:\\Users\\sub13\\yolov5\\yolov5\\data\\images\\cars2.mp4: 640x640 1 person, 584.5ms\n",
            "video 1/1 (139/188) C:\\Users\\sub13\\yolov5\\yolov5\\data\\images\\cars2.mp4: 640x640 1 person, 578.0ms\n",
            "video 1/1 (140/188) C:\\Users\\sub13\\yolov5\\yolov5\\data\\images\\cars2.mp4: 640x640 1 person, 553.3ms\n",
            "video 1/1 (141/188) C:\\Users\\sub13\\yolov5\\yolov5\\data\\images\\cars2.mp4: 640x640 1 person, 564.8ms\n",
            "video 1/1 (142/188) C:\\Users\\sub13\\yolov5\\yolov5\\data\\images\\cars2.mp4: 640x640 1 person, 554.3ms\n",
            "video 1/1 (143/188) C:\\Users\\sub13\\yolov5\\yolov5\\data\\images\\cars2.mp4: 640x640 1 person, 549.7ms\n",
            "video 1/1 (144/188) C:\\Users\\sub13\\yolov5\\yolov5\\data\\images\\cars2.mp4: 640x640 1 person, 558.2ms\n",
            "video 1/1 (145/188) C:\\Users\\sub13\\yolov5\\yolov5\\data\\images\\cars2.mp4: 640x640 1 person, 558.5ms\n",
            "video 1/1 (146/188) C:\\Users\\sub13\\yolov5\\yolov5\\data\\images\\cars2.mp4: 640x640 1 person, 541.1ms\n",
            "video 1/1 (147/188) C:\\Users\\sub13\\yolov5\\yolov5\\data\\images\\cars2.mp4: 640x640 1 person, 560.1ms\n",
            "video 1/1 (148/188) C:\\Users\\sub13\\yolov5\\yolov5\\data\\images\\cars2.mp4: 640x640 1 person, 551.3ms\n",
            "video 1/1 (149/188) C:\\Users\\sub13\\yolov5\\yolov5\\data\\images\\cars2.mp4: 640x640 1 person, 564.0ms\n",
            "video 1/1 (150/188) C:\\Users\\sub13\\yolov5\\yolov5\\data\\images\\cars2.mp4: 640x640 1 person, 540.9ms\n",
            "video 1/1 (151/188) C:\\Users\\sub13\\yolov5\\yolov5\\data\\images\\cars2.mp4: 640x640 1 person, 544.3ms\n",
            "video 1/1 (152/188) C:\\Users\\sub13\\yolov5\\yolov5\\data\\images\\cars2.mp4: 640x640 1 person, 544.2ms\n",
            "video 1/1 (153/188) C:\\Users\\sub13\\yolov5\\yolov5\\data\\images\\cars2.mp4: 640x640 1 person, 541.3ms\n",
            "video 1/1 (154/188) C:\\Users\\sub13\\yolov5\\yolov5\\data\\images\\cars2.mp4: 640x640 1 person, 547.5ms\n",
            "video 1/1 (155/188) C:\\Users\\sub13\\yolov5\\yolov5\\data\\images\\cars2.mp4: 640x640 1 person, 553.2ms\n",
            "video 1/1 (156/188) C:\\Users\\sub13\\yolov5\\yolov5\\data\\images\\cars2.mp4: 640x640 1 person, 542.2ms\n",
            "video 1/1 (157/188) C:\\Users\\sub13\\yolov5\\yolov5\\data\\images\\cars2.mp4: 640x640 1 person, 1 vehicle, 534.2ms\n",
            "video 1/1 (158/188) C:\\Users\\sub13\\yolov5\\yolov5\\data\\images\\cars2.mp4: 640x640 1 person, 539.4ms\n",
            "video 1/1 (159/188) C:\\Users\\sub13\\yolov5\\yolov5\\data\\images\\cars2.mp4: 640x640 1 person, 542.6ms\n",
            "video 1/1 (160/188) C:\\Users\\sub13\\yolov5\\yolov5\\data\\images\\cars2.mp4: 640x640 1 person, 555.1ms\n",
            "video 1/1 (161/188) C:\\Users\\sub13\\yolov5\\yolov5\\data\\images\\cars2.mp4: 640x640 1 person, 553.8ms\n",
            "video 1/1 (162/188) C:\\Users\\sub13\\yolov5\\yolov5\\data\\images\\cars2.mp4: 640x640 1 person, 550.5ms\n",
            "video 1/1 (163/188) C:\\Users\\sub13\\yolov5\\yolov5\\data\\images\\cars2.mp4: 640x640 1 person, 571.4ms\n",
            "video 1/1 (164/188) C:\\Users\\sub13\\yolov5\\yolov5\\data\\images\\cars2.mp4: 640x640 1 person, 556.8ms\n",
            "video 1/1 (165/188) C:\\Users\\sub13\\yolov5\\yolov5\\data\\images\\cars2.mp4: 640x640 1 person, 555.2ms\n",
            "video 1/1 (166/188) C:\\Users\\sub13\\yolov5\\yolov5\\data\\images\\cars2.mp4: 640x640 1 person, 552.4ms\n",
            "video 1/1 (167/188) C:\\Users\\sub13\\yolov5\\yolov5\\data\\images\\cars2.mp4: 640x640 1 person, 552.1ms\n",
            "video 1/1 (168/188) C:\\Users\\sub13\\yolov5\\yolov5\\data\\images\\cars2.mp4: 640x640 1 person, 569.1ms\n",
            "video 1/1 (169/188) C:\\Users\\sub13\\yolov5\\yolov5\\data\\images\\cars2.mp4: 640x640 1 person, 541.5ms\n",
            "video 1/1 (170/188) C:\\Users\\sub13\\yolov5\\yolov5\\data\\images\\cars2.mp4: 640x640 1 person, 548.5ms\n",
            "video 1/1 (171/188) C:\\Users\\sub13\\yolov5\\yolov5\\data\\images\\cars2.mp4: 640x640 1 person, 567.6ms\n",
            "video 1/1 (172/188) C:\\Users\\sub13\\yolov5\\yolov5\\data\\images\\cars2.mp4: 640x640 1 person, 604.1ms\n",
            "video 1/1 (173/188) C:\\Users\\sub13\\yolov5\\yolov5\\data\\images\\cars2.mp4: 640x640 1 person, 520.8ms\n",
            "video 1/1 (174/188) C:\\Users\\sub13\\yolov5\\yolov5\\data\\images\\cars2.mp4: 640x640 1 person, 561.2ms\n",
            "video 1/1 (175/188) C:\\Users\\sub13\\yolov5\\yolov5\\data\\images\\cars2.mp4: 640x640 1 person, 542.0ms\n",
            "video 1/1 (176/188) C:\\Users\\sub13\\yolov5\\yolov5\\data\\images\\cars2.mp4: 640x640 1 person, 574.0ms\n",
            "video 1/1 (177/188) C:\\Users\\sub13\\yolov5\\yolov5\\data\\images\\cars2.mp4: 640x640 1 person, 591.1ms\n",
            "video 1/1 (178/188) C:\\Users\\sub13\\yolov5\\yolov5\\data\\images\\cars2.mp4: 640x640 1 person, 644.7ms\n",
            "video 1/1 (179/188) C:\\Users\\sub13\\yolov5\\yolov5\\data\\images\\cars2.mp4: 640x640 1 person, 653.3ms\n",
            "video 1/1 (180/188) C:\\Users\\sub13\\yolov5\\yolov5\\data\\images\\cars2.mp4: 640x640 1 person, 659.2ms\n",
            "video 1/1 (181/188) C:\\Users\\sub13\\yolov5\\yolov5\\data\\images\\cars2.mp4: 640x640 1 person, 640.3ms\n",
            "video 1/1 (182/188) C:\\Users\\sub13\\yolov5\\yolov5\\data\\images\\cars2.mp4: 640x640 1 person, 626.6ms\n",
            "video 1/1 (183/188) C:\\Users\\sub13\\yolov5\\yolov5\\data\\images\\cars2.mp4: 640x640 1 person, 595.1ms\n",
            "video 1/1 (184/188) C:\\Users\\sub13\\yolov5\\yolov5\\data\\images\\cars2.mp4: 640x640 1 person, 723.4ms\n",
            "video 1/1 (185/188) C:\\Users\\sub13\\yolov5\\yolov5\\data\\images\\cars2.mp4: 640x640 1 person, 657.6ms\n",
            "video 1/1 (186/188) C:\\Users\\sub13\\yolov5\\yolov5\\data\\images\\cars2.mp4: 640x640 1 person, 712.9ms\n",
            "video 1/1 (187/188) C:\\Users\\sub13\\yolov5\\yolov5\\data\\images\\cars2.mp4: 640x640 1 person, 802.1ms\n",
            "video 1/1 (188/188) C:\\Users\\sub13\\yolov5\\yolov5\\data\\images\\cars2.mp4: 640x640 1 person, 830.3ms\n",
            "Speed: 1.6ms pre-process, 531.8ms inference, 1.0ms NMS per image at shape (1, 3, 640, 640)\n",
            "Results saved to \u001b[1mruns\\detect\\exp23\u001b[0m\n"
          ]
        }
      ],
      "source": [
        "# Inference Performed Using custom model torchscript weight on video\n",
        "\n",
        "!python detect.py --weights final.torchscript --source ./data/images/cars2.mp4\n",
        "\n",
        "#final.torchscript"
      ]
    },
    {
      "cell_type": "code",
      "execution_count": null,
      "id": "64114c59",
      "metadata": {
        "id": "64114c59"
      },
      "outputs": [],
      "source": []
    },
    {
      "cell_type": "code",
      "execution_count": null,
      "id": "68a1a700",
      "metadata": {
        "id": "68a1a700"
      },
      "outputs": [],
      "source": []
    },
    {
      "cell_type": "code",
      "execution_count": null,
      "id": "b8dbf7f1",
      "metadata": {
        "id": "b8dbf7f1"
      },
      "outputs": [],
      "source": []
    },
    {
      "cell_type": "code",
      "execution_count": null,
      "id": "506e067b",
      "metadata": {
        "id": "506e067b"
      },
      "outputs": [],
      "source": []
    },
    {
      "cell_type": "code",
      "execution_count": null,
      "id": "cf3c0af4",
      "metadata": {
        "id": "cf3c0af4"
      },
      "outputs": [],
      "source": []
    }
  ],
  "metadata": {
    "kernelspec": {
      "display_name": "Python 3 (ipykernel)",
      "language": "python",
      "name": "python3"
    },
    "language_info": {
      "codemirror_mode": {
        "name": "ipython",
        "version": 3
      },
      "file_extension": ".py",
      "mimetype": "text/x-python",
      "name": "python",
      "nbconvert_exporter": "python",
      "pygments_lexer": "ipython3",
      "version": "3.9.13"
    },
    "colab": {
      "provenance": [],
      "include_colab_link": true
    }
  },
  "nbformat": 4,
  "nbformat_minor": 5
}