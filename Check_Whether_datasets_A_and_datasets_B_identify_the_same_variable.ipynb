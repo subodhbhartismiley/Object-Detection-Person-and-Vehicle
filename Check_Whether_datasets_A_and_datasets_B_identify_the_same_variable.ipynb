{
  "cells": [
    {
      "cell_type": "markdown",
      "metadata": {
        "id": "view-in-github",
        "colab_type": "text"
      },
      "source": [
        "<a href=\"https://colab.research.google.com/github/subodhbhartismiley/Object-Detection-Person-and-Vehicle/blob/main/Check_Whether_datasets_A_and_datasets_B_identify_the_same_variable.ipynb\" target=\"_parent\"><img src=\"https://colab.research.google.com/assets/colab-badge.svg\" alt=\"Open In Colab\"/></a>"
      ]
    },
    {
      "cell_type": "code",
      "execution_count": null,
      "id": "b33d5800",
      "metadata": {
        "id": "b33d5800",
        "outputId": "b4c8fa1f-5746-4b42-c362-ff3d5df67071"
      },
      "outputs": [
        {
          "name": "stdout",
          "output_type": "stream",
          "text": [
            "       date  wind_speed\n",
            "0  1/1/2013    0.000000\n",
            "1  1/2/2013    2.980000\n",
            "2  1/3/2013    4.633333\n",
            "3  1/4/2013    1.233333\n",
            "4  1/5/2013    3.700000 \n",
            "\n",
            "\n",
            "       date  wind_speed\n",
            "0  1/1/2017    2.743478\n",
            "1  1/2/2017    2.894444\n",
            "2  1/3/2017    4.016667\n",
            "3  1/4/2017    4.545000\n",
            "4  1/5/2017    3.300000 \n",
            "\n",
            "\n",
            "Total Values in Larger Dataset A 1462\n",
            "Total Values in smaller Dataset B 114\n"
          ]
        },
        {
          "data": {
            "text/plain": [
              "KstestResult(statistic=0.21221830225358196, pvalue=0.00011677446505408822)"
            ]
          },
          "execution_count": 13,
          "metadata": {},
          "output_type": "execute_result"
        }
      ],
      "source": [
        "import scipy\n",
        "from scipy.stats import ks_2samp\n",
        "import pandas as pd\n",
        "\n",
        "df1 = pd.read_csv('C:/Users/sub13/Downloads/DailyDelhiClimateTrain.csv')  # for Large Dataset A \n",
        "\n",
        "df2 = pd.read_csv('C:/Users/sub13/Downloads/DailyDelhiClimateTest.csv')  # for smaller Dataset B\n",
        "\n",
        "print(df1.head(),'\\n\\n')\n",
        "print(df2.head(),'\\n\\n')\n",
        "\n",
        "df1.dropna()\n",
        "df2.dropna()\n",
        "#print(df1.shape)\n",
        "\n",
        "data1=df1['wind_speed']\n",
        "data2=df2['wind_speed']\n",
        "\n",
        "print('Total Values in Larger Dataset A',data1.shape[0]) \n",
        "\n",
        "print('Total Values in smaller Dataset B',data2.shape[0])\n",
        "\n",
        "scipy.stats.ks_2samp(data1, data2, alternative='two-sided', mode='auto')\n"
      ]
    },
    {
      "cell_type": "markdown",
      "id": "5c4937cd",
      "metadata": {
        "id": "5c4937cd"
      },
      "source": [
        "## Insight\n",
        "* We see from above (or from p-value < .05), that the null hypothesis is not rejected, \n",
        "* showing that there is no significant difference between the distribution for the two samples.\n",
        "* Conclude- Both datasets follow same statistical distribution. \n",
        "* or other way we can say both dataset identify same variable."
      ]
    },
    {
      "cell_type": "code",
      "execution_count": null,
      "id": "3931198a",
      "metadata": {
        "id": "3931198a"
      },
      "outputs": [],
      "source": []
    },
    {
      "cell_type": "code",
      "execution_count": null,
      "id": "bf335884",
      "metadata": {
        "id": "bf335884"
      },
      "outputs": [],
      "source": [
        "# We see from above (or from p-value < .05), that the null hypothesis is rejected, \n",
        "# showing that there is significant difference between the distribution for the two samples. \n",
        "#The same result can be achieved using the array formula\n",
        "\n",
        "# A p-value of 0.05 or lower is generally considered statistically significant. or do not reject null\n",
        "# "
      ]
    }
  ],
  "metadata": {
    "kernelspec": {
      "display_name": "Python 3 (ipykernel)",
      "language": "python",
      "name": "python3"
    },
    "language_info": {
      "codemirror_mode": {
        "name": "ipython",
        "version": 3
      },
      "file_extension": ".py",
      "mimetype": "text/x-python",
      "name": "python",
      "nbconvert_exporter": "python",
      "pygments_lexer": "ipython3",
      "version": "3.9.13"
    },
    "colab": {
      "provenance": [],
      "include_colab_link": true
    }
  },
  "nbformat": 4,
  "nbformat_minor": 5
}